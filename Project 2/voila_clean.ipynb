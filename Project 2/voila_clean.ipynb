{
 "cells": [
  {
   "cell_type": "code",
   "execution_count": 3,
   "id": "1ceb1b6e-bd3a-4535-8eca-0a93ab7cdda4",
   "metadata": {
    "tags": []
   },
   "outputs": [],
   "source": [
    "import glob\n",
    "from pathlib import Path\n",
    "\n",
    "import geopandas as gpd\n",
    "import ipywidgets as widgets\n",
    "\n",
    "import matplotlib.pyplot as plt\n",
    "import rasterio\n",
    "from ipyleaflet import (\n",
    "    FullScreenControl,\n",
    "    GeoData,\n",
    "    LayersControl,\n",
    "    LegendControl,\n",
    "    Map,\n",
    "    Marker,\n",
    "    ScaleControl,\n",
    "    SplitMapControl,\n",
    "    WidgetControl,\n",
    "    basemaps,\n",
    "    Popup,\n",
    ")\n",
    "from IPython.display import Markdown, display\n",
    "from ipywidgets import Button, IntSlider, Layout, jslink, widgets, HTML\n",
    "from localtileserver import TileClient, get_leaflet_tile_layer\n",
    "from scipy.ndimage import gaussian_filter\n",
    "import numpy as np\n",
    "from osgeo import gdal\n",
    "from pathlib import Path"
   ]
  },
  {
   "cell_type": "code",
   "execution_count": null,
   "id": "1dc0962d-6aef-4e4f-9fe4-bc607291d0f8",
   "metadata": {},
   "outputs": [],
   "source": [
    "import rasterio\n",
    "def get_coordinate_pixel(tiff_file, lat, lon):\n",
    "    dataset = rasterio.open(tiff_file)\n",
    "    py, px = dataset.index(lon, lat)\n",
    "    # create 1x1px window of the pixel\n",
    "    window = rasterio.windows.Window(px - 1 // 2, py - 1 // 2, 1, 1)\n",
    "    # read rgb values of the window\n",
    "    clip = dataset.read(window=window)\n",
    "    return clip[0][0][0]"
   ]
  },
  {
   "cell_type": "code",
   "execution_count": 6,
   "id": "1da93412-7508-4502-8d9d-f0365b45e2e6",
   "metadata": {
    "tags": []
   },
   "outputs": [],
   "source": [
    "def getCoordinatePixel(maps, lon, lat):\n",
    "    # open map\n",
    "    dataset = rasterio.open(maps)\n",
    "    # get pixel x+y of the coordinate\n",
    "    py, px = dataset.index(lon, lat)\n",
    "    # print(py, px)\n",
    "    # create 1x1px window of the pixel\n",
    "    window = rasterio.windows.Window(px - 1 // 2, py - 1 // 2, 1, 1)\n",
    "    # read rgb values of the window\n",
    "    clip = dataset.read(window=window)\n",
    "    return clip[0][0][0]\n",
    "\n",
    "\n",
    "lat = -3.7957\n",
    "long = -80.1151\n",
    "max_zoom = 30\n",
    "\n",
    "\n",
    "def addElOro(map_obj, selShp):\n",
    "    selDf = gpd.read_file(\"Ecuador shapefiles/\" + selShp + \".shp\")\n",
    "    selDf = selDf[selDf[\"ADM1_ES\"] == \"El Oro\"]\n",
    "\n",
    "    geoDf = selDf.to_crs(4326)\n",
    "    lonCent = (geoDf.bounds.maxx + geoDf.bounds.minx).mean() / 2\n",
    "    latCent = (geoDf.bounds.maxy + geoDf.bounds.miny).mean() / 2\n",
    "\n",
    "    map_obj.center = (latCent, lonCent)\n",
    "    geoData = GeoData(\n",
    "        geo_dataframe=geoDf,\n",
    "        name=selShp,\n",
    "        style={\"color\": \"magenta\", \"fillColor\": \"magenta\", \"fillOpacity\": 0.05},\n",
    "    )  # style={'color': 'black', 'fillColor': 'green', 'opacity':0.05, 'weight':1.9, 'dashArray':'2', 'fillOpacity':0.6},\n",
    "    # hover_style={'fillColor': 'red' , 'fillOpacity': 0.2})\n",
    "    map_obj.add_layer(geoData)\n",
    "\n",
    "\n",
    "def addEcuador(map_obj):\n",
    "    selDf = gpd.read_file(\"Ecuador shapefiles/ecu_admbnda_adm0_inec_20190724.shp\")\n",
    "    selDf = selDf[selDf[\"ADM0_EN\"] == \"Ecuador\"]\n",
    "\n",
    "    geoDf = selDf.to_crs(4326)\n",
    "#     lonCent = (geoDf.bounds.maxx + geoDf.bounds.minx).mean() / 2\n",
    "#     latCent = (geoDf.bounds.maxy + geoDf.bounds.miny).mean() / 2\n",
    "\n",
    "#     map_obj.center = (latCent, lonCent)\n",
    "    geoData = GeoData(\n",
    "        geo_dataframe=geoDf,\n",
    "        name=\"ecu_admbnda_adm0_inec_20190724\",\n",
    "        style={\"color\": \"pink\", \"fillColor\": \"magenta\", \"fillOpacity\": 0},\n",
    "    )  # style={'color': 'black', 'fillColor': 'green', 'opacity':0.05, 'weight':1.9, 'dashArray':'2', 'fillOpacity':0.6},\n",
    "    # hover_style={'fillColor': 'red' , 'fillOpacity': 0.2})\n",
    "    map_obj.add_layer(geoData)\n",
    "\n",
    "\n",
    "def get_shapefile_bounds(file_path, column=\"ADM0_EN\", value=\"Ecuador\"):\n",
    "    # Load the shapefile\n",
    "    gdf = gpd.read_file(file_path)\n",
    "\n",
    "    # Filter the DataFrame for the specified region\n",
    "    gdf = gdf[gdf[column] == value]\n",
    "\n",
    "    # Calculate the bounds for the region\n",
    "    # bounds = gdf.bounds\n",
    "\n",
    "    # If you want to transform the bounds to WGS84 (EPSG:4326), you can do:\n",
    "    gdf = gdf.to_crs(\"EPSG:4326\")\n",
    "    bounds = gdf.total_bounds\n",
    "    minX, minY, maxX, maxY = bounds\n",
    "    bounds_tuple = (minX, maxY, maxX, minY)\n",
    "    # [[south, west], [north, east]]\n",
    "    # Return the bounds\n",
    "    return bounds_tuple\n",
    "\n",
    "\n",
    "def smooth_dataset(file_path, sigma):\n",
    "    path = Path(file_path)\n",
    "    smoothed_file = path.parent / f\"{path.stem}_smoothed_{sigma}_{path.suffix}\"\n",
    "    if smoothed_file.exists():\n",
    "        return rasterio.open(smoothed_file)\n",
    "    # Open the file\n",
    "    with rasterio.open(file_path) as src:\n",
    "        # Create an empty list to store the smoothed bands\n",
    "        smoothed_bands = []\n",
    "\n",
    "        # Apply the Gaussian filter to each band\n",
    "        for band in src.read():\n",
    "            smoothed_bands.append(gaussian_filter(band, sigma=sigma))\n",
    "\n",
    "        # Create a new GeoTiff file\n",
    "\n",
    "        with rasterio.open(\n",
    "            smoothed_file,\n",
    "            \"w\",\n",
    "            driver=\"GTiff\",\n",
    "            height=src.height,\n",
    "            width=src.width,\n",
    "            count=src.count,\n",
    "            dtype=src.dtypes[0],\n",
    "            crs=src.crs,\n",
    "            transform=src.transform,\n",
    "        ) as dst:\n",
    "            # Write the smoothed bands to the new file\n",
    "            for i, band in enumerate(smoothed_bands, start=1):\n",
    "                dst.write(band, i)\n",
    "\n",
    "    # Return a new DatasetReader for the new file\n",
    "    return rasterio.open(smoothed_file)\n",
    "\n",
    "\n",
    "# +\n",
    "\n",
    "\n",
    "\n",
    "def crop_and_reproject_dataset(\n",
    "    file_path, bbox, xRes=None, yRes=None, resample_alg=gdal.GRA_CubicSpline\n",
    "):\n",
    "    path = Path(file_path)\n",
    "    cropped_file = str(path.parent / f\"{path.stem}_cropped.tif\")\n",
    "    reprojected_file = str(path.parent / f\"{path.stem}_interpolated.tif\")\n",
    "    if Path(reprojected_file).exists():\n",
    "        return rasterio.open(reprojected_file)\n",
    "    dst_crs = \"EPSG:4326\"\n",
    "    # Open the source file\n",
    "    src_ds = gdal.Open(str(file_path))\n",
    "    if src_ds is None:\n",
    "        print(f\"Could not open {file_path}\")\n",
    "        return None\n",
    "\n",
    "    # Crop the source image\n",
    "    translate_options = gdal.TranslateOptions(projWin=bbox)\n",
    "    cropped_ds = gdal.Translate(cropped_file, src_ds, options=translate_options)\n",
    "\n",
    "    # Clean up\n",
    "    src_ds = None\n",
    "\n",
    "    # Create Warp options\n",
    "    # srcNodata=0\n",
    "    warp_options = gdal.WarpOptions(\n",
    "        dstSRS=dst_crs, xRes=xRes, yRes=yRes, resampleAlg=resample_alg, srcNodata=0, dstNodata=0\n",
    "    )\n",
    "\n",
    "    # Reproject cropped image\n",
    "    reprojected_ds = gdal.Warp(reprojected_file, cropped_ds, options=warp_options)\n",
    "\n",
    "    # Clean up\n",
    "    cropped_ds = None\n",
    "    reprojected_ds = None  # Close the dataset to write to disk\n",
    "    Path(cropped_file).unlink()\n",
    "    return rasterio.open(reprojected_file)\n",
    "\n",
    "\n",
    "def smooth(file_path):\n",
    "    minx = -82.0\n",
    "    maxy = -6.00\n",
    "    maxx = -77.0\n",
    "    miny = 1.2  # -1.00\n",
    "    bbox = (minx, miny, maxx, maxy)\n",
    "    # bbox = get_shapefile_bounds(\"Ecuador shapefiles/ecu_admbnda_adm0_inec_20190724.shp\")\n",
    "    # print(bbox)\n",
    "    bbox = (-82.00896662899999, 1.681834608000031, -75.18714655299993, -5.2)\n",
    "    return crop_and_reproject_dataset(file_path, bbox, xRes=0.01, yRes=0.01)"
   ]
  },
  {
   "cell_type": "code",
   "execution_count": 7,
   "id": "4e94f446-4beb-4b8d-bb9b-26f186061699",
   "metadata": {
    "tags": []
   },
   "outputs": [
    {
     "data": {
      "text/markdown": [
       "## Actual Yield 2010"
      ],
      "text/plain": [
       "<IPython.core.display.Markdown object>"
      ]
     },
     "metadata": {},
     "output_type": "display_data"
    },
    {
     "data": {
      "application/vnd.jupyter.widget-view+json": {
       "model_id": "e0792b6c92284f339956f1b9d6545cc6",
       "version_major": 2,
       "version_minor": 0
      },
      "text/plain": [
       "Map(center=[-3.538806962642807, -79.84343566192852], controls=(ZoomControl(options=['position', 'zoom_in_text'…"
      ]
     },
     "metadata": {},
     "output_type": "display_data"
    }
   ],
   "source": [
    "# +\n",
    "# production in 1000T\n",
    "client = TileClient(smooth(\"Actual Yields and Production/T/2010/ban_2010_prd.tif\"))\n",
    "yield_display = dict(\n",
    "    vmin=2,\n",
    "    vmax=21,\n",
    "    cmap=\"coolwarm\",\n",
    "    opacity=0.75,\n",
    "    max_zoom=max_zoom,\n",
    "    max_native_zoom=max_zoom,\n",
    ")\n",
    "# Create ipyleaflet tile layer from that server\n",
    "t = get_leaflet_tile_layer(client, **yield_display)\n",
    "\n",
    "actual_yield_map = Map(\n",
    "    center=(lat, long),\n",
    "    zoom=9,\n",
    "    layout=Layout(height=\"800px\"),\n",
    "    basemap=basemaps.Esri.WorldImagery,\n",
    ")\n",
    "\n",
    "addEcuador(actual_yield_map)\n",
    "addElOro(actual_yield_map, \"ecu_admbnda_adm2_inec_20190724\")\n",
    "yieldd = getCoordinatePixel(\n",
    "    \"Actual Yields and Production/T/2010/ban_2010_prd.tif\", long, lat\n",
    ")\n",
    "# Create a marker at the given latitude and longitude\n",
    "marker = Marker(location=(lat, long))\n",
    "\n",
    "def marker_move(event, location):\n",
    "    message1 = HTML()\n",
    "    pixel_value = getCoordinatePixel(\n",
    "        \"Actual Yields and Production/T/2010/ban_2010_prd.tif\", location[1], location[0]\n",
    "    )\n",
    "    message1.value = (\n",
    "        f\"Yield: {pixel_value*1000:,.0f} tons at {location[0]:.4f}, {location[1]:.4f}\"\n",
    "    )\n",
    "\n",
    "    # Popup with a given location on the map:\n",
    "    popup = Popup(\n",
    "        location=location,\n",
    "        child=message1,\n",
    "        close_button=False,\n",
    "        auto_close=False,\n",
    "        close_on_escape_key=False,\n",
    "    )\n",
    "    actual_yield_map.add_layer(popup)\n",
    "    marker.popup = message1\n",
    "\n",
    "\n",
    "marker.on_move(marker_move)\n",
    "# Display the widget\n",
    "\n",
    "# Add the marker to the map\n",
    "actual_yield_map.add_layer(marker)\n",
    "actual_yield_map.add_control(ScaleControl(position=\"bottomleft\"))\n",
    "actual_yield_map.add_layer(t)\n",
    "display(Markdown(\"## Actual Yield 2010\"))\n",
    "display(actual_yield_map)"
   ]
  },
  {
   "cell_type": "code",
   "execution_count": 8,
   "id": "d88a8d20-a0f4-4149-8779-304b13848439",
   "metadata": {
    "tags": []
   },
   "outputs": [
    {
     "data": {
      "text/markdown": [
       "## Mean Soil Organic Carbon (0-5cm, dg/kg)"
      ],
      "text/plain": [
       "<IPython.core.display.Markdown object>"
      ]
     },
     "metadata": {},
     "output_type": "display_data"
    },
    {
     "data": {
      "application/vnd.jupyter.widget-view+json": {
       "model_id": "f0dee855c4b44be09fe5e3c89bc53c8d",
       "version_major": 2,
       "version_minor": 0
      },
      "text/plain": [
       "Map(center=[-3.538806962642807, -79.84343566192852], controls=(ZoomControl(options=['position', 'zoom_in_text'…"
      ]
     },
     "metadata": {},
     "output_type": "display_data"
    },
    {
     "data": {
      "text/markdown": [
       "## Mean Silt (0-5cm, g/kg)"
      ],
      "text/plain": [
       "<IPython.core.display.Markdown object>"
      ]
     },
     "metadata": {},
     "output_type": "display_data"
    },
    {
     "data": {
      "application/vnd.jupyter.widget-view+json": {
       "model_id": "8500e37d351e42f4a234aa687128b485",
       "version_major": 2,
       "version_minor": 0
      },
      "text/plain": [
       "Map(center=[-3.538806962642807, -79.84343566192852], controls=(ZoomControl(options=['position', 'zoom_in_text'…"
      ]
     },
     "metadata": {},
     "output_type": "display_data"
    },
    {
     "data": {
      "text/markdown": [
       "## Mean Clay Content (0-5cm, g/kg)"
      ],
      "text/plain": [
       "<IPython.core.display.Markdown object>"
      ]
     },
     "metadata": {},
     "output_type": "display_data"
    },
    {
     "data": {
      "application/vnd.jupyter.widget-view+json": {
       "model_id": "b2afaa3a5dc9451eb5de7627720b0a63",
       "version_major": 2,
       "version_minor": 0
      },
      "text/plain": [
       "Map(center=[-3.538806962642807, -79.84343566192852], controls=(ZoomControl(options=['position', 'zoom_in_text'…"
      ]
     },
     "metadata": {},
     "output_type": "display_data"
    },
    {
     "data": {
      "text/markdown": [
       "## Mean Nitrogen (0-5cm, cg/kg)"
      ],
      "text/plain": [
       "<IPython.core.display.Markdown object>"
      ]
     },
     "metadata": {},
     "output_type": "display_data"
    },
    {
     "data": {
      "application/vnd.jupyter.widget-view+json": {
       "model_id": "ca442e30439341738a0bf6790890eb11",
       "version_major": 2,
       "version_minor": 0
      },
      "text/plain": [
       "Map(center=[-3.538806962642807, -79.84343566192852], controls=(ZoomControl(options=['position', 'zoom_in_text'…"
      ]
     },
     "metadata": {},
     "output_type": "display_data"
    },
    {
     "data": {
      "text/markdown": [
       "## Mean Course Fragments (0-5cm, cm³/dm³)"
      ],
      "text/plain": [
       "<IPython.core.display.Markdown object>"
      ]
     },
     "metadata": {},
     "output_type": "display_data"
    },
    {
     "data": {
      "application/vnd.jupyter.widget-view+json": {
       "model_id": "340cd2224d0444658a26987079c647cc",
       "version_major": 2,
       "version_minor": 0
      },
      "text/plain": [
       "Map(center=[-3.538806962642807, -79.84343566192852], controls=(ZoomControl(options=['position', 'zoom_in_text'…"
      ]
     },
     "metadata": {},
     "output_type": "display_data"
    },
    {
     "data": {
      "text/markdown": [
       "## Mean Cation Exchange Capacity (0-5cm, mmol(c)/kg)"
      ],
      "text/plain": [
       "<IPython.core.display.Markdown object>"
      ]
     },
     "metadata": {},
     "output_type": "display_data"
    },
    {
     "data": {
      "application/vnd.jupyter.widget-view+json": {
       "model_id": "658586a6c92840109b51e24eb30bd63f",
       "version_major": 2,
       "version_minor": 0
      },
      "text/plain": [
       "Map(center=[-3.538806962642807, -79.84343566192852], controls=(ZoomControl(options=['position', 'zoom_in_text'…"
      ]
     },
     "metadata": {},
     "output_type": "display_data"
    },
    {
     "data": {
      "text/markdown": [
       "## Mean Sand (0-5cm, g/kg)"
      ],
      "text/plain": [
       "<IPython.core.display.Markdown object>"
      ]
     },
     "metadata": {},
     "output_type": "display_data"
    },
    {
     "data": {
      "application/vnd.jupyter.widget-view+json": {
       "model_id": "c2f4695ac45549869c81c326880a11e4",
       "version_major": 2,
       "version_minor": 0
      },
      "text/plain": [
       "Map(center=[-3.538806962642807, -79.84343566192852], controls=(ZoomControl(options=['position', 'zoom_in_text'…"
      ]
     },
     "metadata": {},
     "output_type": "display_data"
    },
    {
     "data": {
      "text/markdown": [
       "## Mean Bulk Density (0-5cm, cg/cm³)"
      ],
      "text/plain": [
       "<IPython.core.display.Markdown object>"
      ]
     },
     "metadata": {},
     "output_type": "display_data"
    },
    {
     "data": {
      "application/vnd.jupyter.widget-view+json": {
       "model_id": "4a7572e885d84457bcb1d7cd5f284a06",
       "version_major": 2,
       "version_minor": 0
      },
      "text/plain": [
       "Map(center=[-3.538806962642807, -79.84343566192852], controls=(ZoomControl(options=['position', 'zoom_in_text'…"
      ]
     },
     "metadata": {},
     "output_type": "display_data"
    },
    {
     "data": {
      "text/markdown": [
       "## Mean Organic Carbon Stock (0-30cm, tonnes/ha)"
      ],
      "text/plain": [
       "<IPython.core.display.Markdown object>"
      ]
     },
     "metadata": {},
     "output_type": "display_data"
    },
    {
     "data": {
      "application/vnd.jupyter.widget-view+json": {
       "model_id": "2f99d60994224fa296b9516fa10b4f81",
       "version_major": 2,
       "version_minor": 0
      },
      "text/plain": [
       "Map(center=[-3.538806962642807, -79.84343566192852], controls=(ZoomControl(options=['position', 'zoom_in_text'…"
      ]
     },
     "metadata": {},
     "output_type": "display_data"
    },
    {
     "data": {
      "text/markdown": [
       "## World Reference Soil Groups"
      ],
      "text/plain": [
       "<IPython.core.display.Markdown object>"
      ]
     },
     "metadata": {},
     "output_type": "display_data"
    },
    {
     "data": {
      "application/vnd.jupyter.widget-view+json": {
       "model_id": "882a8c606eff4a13b4a198687098645f",
       "version_major": 2,
       "version_minor": 0
      },
      "text/plain": [
       "Map(center=[-3.538806962642807, -79.84343566192852], controls=(ZoomControl(options=['position', 'zoom_in_text'…"
      ]
     },
     "metadata": {},
     "output_type": "display_data"
    },
    {
     "data": {
      "text/markdown": [
       "## Mean pH Water (0-5cm, pH * 10)"
      ],
      "text/plain": [
       "<IPython.core.display.Markdown object>"
      ]
     },
     "metadata": {},
     "output_type": "display_data"
    },
    {
     "data": {
      "application/vnd.jupyter.widget-view+json": {
       "model_id": "ead34e5def934d7ba80a54bcdd65ddbc",
       "version_major": 2,
       "version_minor": 0
      },
      "text/plain": [
       "Map(center=[-3.538806962642807, -79.84343566192852], controls=(ZoomControl(options=['position', 'zoom_in_text'…"
      ]
     },
     "metadata": {},
     "output_type": "display_data"
    }
   ],
   "source": [
    "# +\n",
    "file_name_mapping = {\n",
    "    \"mean_organic_carbon_density_0_5\": \"Mean Organic Carbon Density (0-5cm, g/dm³)\",\n",
    "    \"mean_soil_organic_carbon_0_5\": \"Mean Soil Organic Carbon (0-5cm, dg/kg)\",\n",
    "    \"mean_silt_0_5\": \"Mean Silt (0-5cm, g/kg)\",\n",
    "    \"mean_clay_content_0_5\": \"Mean Clay Content (0-5cm, g/kg)\",\n",
    "    \"mean_nitrogen_0_5\": \"Mean Nitrogen (0-5cm, cg/kg)\",\n",
    "    \"mean_course_fragments_0_5\": \"Mean Course Fragments (0-5cm, cm³/dm³)\",\n",
    "    \"mean_cation_exchange_capacity_0_5\": \"Mean Cation Exchange Capacity (0-5cm, mmol(c)/kg)\",\n",
    "    \"mean_sand_0_5\": \"Mean Sand (0-5cm, g/kg)\",\n",
    "    \"mean_bulk_density_0_5\": \"Mean Bulk Density (0-5cm, cg/cm³)\",\n",
    "    \"mean_organic_carbon_stock_0_30\": \"Mean Organic Carbon Stock (0-30cm, tonnes/ha)\",\n",
    "    \"world_reference_soil_groups\": \"World Reference Soil Groups\",\n",
    "    \"mean_ph_water_0_5\": \"Mean pH Water (0-5cm, pH * 10)\",\n",
    "}\n",
    "\n",
    "for file in glob.glob(\"Soil Grids/*.tif\"):\n",
    "    file_p = Path(file)\n",
    "    # production in 1000T\n",
    "    client = TileClient(file)\n",
    "    # Create ipyleaflet tile layer from that server\n",
    "    cmap = \"coolwarm\"\n",
    "    if file_p.stem == \"world_reference_soil_groups\":\n",
    "        cmap = \"tab20\"\n",
    "        legend = LegendControl(\n",
    "            {\n",
    "                \"Cambisols\": \"Green\",\n",
    "                \"Ferralsols\": \"#d62728\",\n",
    "                \"Andosols\": \"Orange\",\n",
    "                \"Fluvisols\": \"rgb(231,150,142)\",\n",
    "                \"Gleysols\": \"rgb(118, 96, 146)\",\n",
    "            },\n",
    "            name=\"Legend\",\n",
    "            position=\"topright\",\n",
    "        )\n",
    "\n",
    "        # Add the legend to the map\n",
    "\n",
    "    t = get_leaflet_tile_layer(\n",
    "        client,  # vmin=0, vmax=50,\n",
    "        cmap=cmap,\n",
    "        opacity=0.75,\n",
    "        max_zoom=max_zoom,\n",
    "        max_native_zoom=max_zoom,\n",
    "    )\n",
    "\n",
    "    m = Map(\n",
    "        center=(lat, long),\n",
    "        zoom=10,\n",
    "        layout=Layout(height=\"800px\"),\n",
    "        basemap=basemaps.Esri.WorldImagery,\n",
    "    )\n",
    "    addElOro(m, \"ecu_admbnda_adm2_inec_20190724\")\n",
    "\n",
    "    # Create a marker at the given latitude and longitude\n",
    "    pix_value = getCoordinatePixel(\n",
    "        file,\n",
    "        long,\n",
    "        lat,\n",
    "    )\n",
    "    marker = Marker(location=(lat, long), title=f\"Value: {pix_value}\")\n",
    "    if file_p.stem == \"world_reference_soil_groups\":\n",
    "        m.add_control(legend)\n",
    "    # Add the marker to the map\n",
    "    m.add_layer(marker)\n",
    "    m.add_layer(t)\n",
    "\n",
    "    display(Markdown(f\"## {file_name_mapping[file_p.stem]}\"))\n",
    "    display(m)"
   ]
  },
  {
   "cell_type": "code",
   "execution_count": 11,
   "id": "79fbf3f9-3a9c-4c30-a07d-674c11860a03",
   "metadata": {
    "tags": []
   },
   "outputs": [
    {
     "data": {
      "application/vnd.jupyter.widget-view+json": {
       "model_id": "",
       "version_major": 2,
       "version_minor": 0
      },
      "text/plain": [
       "HBox(children=(Play(value=0, description='Press play', interval=500, max=88), Button(icon='minus', layout=Layo…"
      ]
     },
     "metadata": {},
     "output_type": "display_data"
    },
    {
     "data": {
      "application/vnd.jupyter.widget-view+json": {
       "model_id": "",
       "version_major": 2,
       "version_minor": 0
      },
      "text/plain": [
       "Map(center=[-3.7957, -80.1151], controls=(ZoomControl(options=['position', 'zoom_in_text', 'zoom_in_title', 'z…"
      ]
     },
     "metadata": {},
     "output_type": "display_data"
    }
   ],
   "source": [
    "# -\n",
    "\n",
    "# # Mean temperature animation\n",
    "\n",
    "# +\n",
    "display_dict = dict(\n",
    "    vmin=6,\n",
    "    vmax=30,\n",
    "    cmap=\"coolwarm\",\n",
    "    opacity=0.75,\n",
    "    max_zoom=max_zoom,\n",
    "    max_native_zoom=max_zoom,\n",
    ")\n",
    "year_map = Map(\n",
    "    center=(lat, long), zoom=9, basemap=basemaps.OpenStreetMap.Mapnik, dragging=False, layout=Layout(height=\"800px\")\n",
    ")\n",
    "\n",
    "addElOro(year_map, \"ecu_admbnda_adm2_inec_20190724\")\n",
    "def get_split_control(year):\n",
    "    l_name = f\"Agroclimatic/Thermal regime/Mean annual temp/ts_tmp_GFDL-ESM2M_rcp2p6_{year}.tif\"\n",
    "    r_name = f\"Agroclimatic/Thermal regime/Mean annual temp/ts_tmp_GFDL-ESM2M_rcp8p5_{year}.tif\"\n",
    "    l_client = TileClient(l_name)\n",
    "    r_client = TileClient(r_name)\n",
    "    # Create new layers\n",
    "    left_layer_new = get_leaflet_tile_layer(l_client, **display_dict)\n",
    "    right_layer_new = get_leaflet_tile_layer(r_client, **display_dict)\n",
    "\n",
    "    # Add a new SplitMapControl with the new layers\n",
    "    control = SplitMapControl(left_layer=left_layer_new, right_layer=right_layer_new)\n",
    "    return control\n",
    "\n",
    "\n",
    "# Create a dictionary of GeoJSON layers, one for each unique timestamp\n",
    "layers = {year: get_split_control(year) for year in range(2011, 2100)}\n",
    "\n",
    "# Create a time slider\n",
    "time_slider = widgets.SelectionSlider(\n",
    "    options=list(layers.keys()), description=\"Year\", continuous_update=False\n",
    ")\n",
    "\n",
    "# Create a Play widget\n",
    "play = widgets.Play(\n",
    "    interval=500,  # ms\n",
    "    value=0,\n",
    "    min=0,\n",
    "    max=len(time_slider.options) - 1,\n",
    "    step=1,\n",
    "    description=\"Press play\",\n",
    "    disabled=False,\n",
    ")\n",
    "\n",
    "# Create an IntSlider that will be linked to the Play widget and the SelectionSlider\n",
    "int_slider = widgets.IntSlider(min=0, max=len(time_slider.options) - 1)\n",
    "\n",
    "\n",
    "def update_temp_label(event, location):\n",
    "    year = time_slider.value\n",
    "    m_lat, m_long = location\n",
    "    l_name = f\"Agroclimatic/Thermal regime/Mean annual temp/ts_tmp_GFDL-ESM2M_rcp2p6_{year}.tif\"\n",
    "    r_name = f\"Agroclimatic/Thermal regime/Mean annual temp/ts_tmp_GFDL-ESM2M_rcp8p5_{year}.tif\"\n",
    "    l_value = getCoordinatePixel(l_name, m_long, m_lat)\n",
    "    r_value = getCoordinatePixel(r_name, m_long, m_lat)\n",
    "    rcps_value.value = f\"Mean annual temperature RCP2.6 vs RCP8.5 at marker: {l_value:.0f} vs {r_value:.0f} °C\"\n",
    "\n",
    "\n",
    "# Function to update the map based on the time slider\n",
    "def update_temp_map(change):\n",
    "    # Remove all current layers\n",
    "    for control in year_map.controls:\n",
    "        if isinstance(control, SplitMapControl):\n",
    "            year_map.remove_control(control)\n",
    "        if isinstance(control, Popup):\n",
    "            control.close_popup()\n",
    "            year_map.remove_control(control)\n",
    "\n",
    "    # Add the layer for the selected time\n",
    "    year = time_slider.options[change[\"new\"]]\n",
    "    year_map.add_control(layers[year])\n",
    "    update_temp_label(change, marker.location)\n",
    "\n",
    "\n",
    "# Call update_map when the int_slider changes\n",
    "int_slider.observe(update_temp_map, names=\"value\")\n",
    "temp_marker = Marker(location=(lat, long))\n",
    "temp_marker.on_move(update_temp_label)\n",
    "\n",
    "# Add the marker to the map\n",
    "year_map.add_layer(temp_marker)\n",
    "\n",
    "\n",
    "# Link the Play widget and the SelectionSlider to the IntSlider\n",
    "widgets.jslink((play, \"value\"), (int_slider, \"value\"))\n",
    "widgets.jslink((int_slider, \"value\"), (time_slider, \"index\"))\n",
    "# Define a layout for the buttons\n",
    "button_layout = Layout(width=\"50px\")  # Or use percentage: '10%'\n",
    "\n",
    "# Create the decrement button with a 'minus' icon and custom layout\n",
    "dec_button = Button(\n",
    "    icon=\"minus\",  # 'minus' is the Font Awesome name for the minus icon\n",
    "    button_style=\"\",  # '' means default\n",
    "    layout=button_layout,  # Use the custom layout\n",
    ")\n",
    "\n",
    "# Create the increment button with a 'plus' icon and custom layout\n",
    "inc_button = Button(\n",
    "    icon=\"plus\",  # 'plus' is the Font Awesome name for the plus icon\n",
    "    button_style=\"\",  # '' means default\n",
    "    layout=button_layout,  # Use the custom layout\n",
    ")\n",
    "\n",
    "\n",
    "# Define function for decrement button\n",
    "def dec_value(b):\n",
    "    if int_slider.value > int_slider.min:\n",
    "        int_slider.value -= 1\n",
    "\n",
    "\n",
    "# Define function for increment button\n",
    "def inc_value(b):\n",
    "    if int_slider.value < int_slider.max:\n",
    "        int_slider.value += 1\n",
    "\n",
    "\n",
    "# Link button click events to their respective functions\n",
    "dec_button.on_click(dec_value)\n",
    "inc_button.on_click(inc_value)\n",
    "rcps_value = widgets.Label()\n",
    "value = 6\n",
    "cmap = plt.get_cmap(\"coolwarm\")\n",
    "norm = plt.Normalize(\n",
    "    vmin=6, vmax=30\n",
    ")  # Adjust the vmin and vmax values based on your data range\n",
    "\n",
    "def color(value):\n",
    "    return \"#%02x%02x%02x\" % tuple(int(255 * c) for c in cmap(norm(value))[:3])\n",
    "\n",
    "legend_map = {f\"{i}°C\": color(i) for i in range(6, 31, 3)}\n",
    "legend = LegendControl(legend_map, name=\"Legend\", position=\"topright\")\n",
    "year_map.add_control(legend)\n",
    "# Display the map and the widgets\n",
    "year_map.add_control(ScaleControl(position=\"bottomleft\"))\n",
    "display(Markdown(\"## Mean Annual Temperature RCP2.6 vs RCP8.5\"))\n",
    "display(widgets.HBox([play, dec_button, time_slider, inc_button, rcps_value]))\n",
    "display(year_map)\n",
    "update_temp_map({\"new\": 0})"
   ]
  },
  {
   "cell_type": "code",
   "execution_count": 9,
   "id": "8086b43a-424f-4921-b489-48b9048bf82c",
   "metadata": {
    "tags": []
   },
   "outputs": [
    {
     "data": {
      "text/markdown": [
       "## Potential Crop Yield RCP2.6 vs RCP8.5"
      ],
      "text/plain": [
       "<IPython.core.display.Markdown object>"
      ]
     },
     "metadata": {},
     "output_type": "display_data"
    },
    {
     "data": {
      "application/vnd.jupyter.widget-view+json": {
       "model_id": "0178e83cd18f4c49bb7b94e3d7b8fa62",
       "version_major": 2,
       "version_minor": 0
      },
      "text/plain": [
       "HBox(children=(Dropdown(description='Select Year:', options=('2011-2040 (2020)', '2041-2070 (2050)', '2071-210…"
      ]
     },
     "metadata": {},
     "output_type": "display_data"
    },
    {
     "data": {
      "application/vnd.jupyter.widget-view+json": {
       "model_id": "76b925658359418da41be07735fd613d",
       "version_major": 2,
       "version_minor": 0
      },
      "text/plain": [
       "Map(center=[-3.538806962642807, -79.84343566192852], controls=(ZoomControl(options=['position', 'zoom_in_text'…"
      ]
     },
     "metadata": {},
     "output_type": "display_data"
    }
   ],
   "source": [
    "# +\n",
    "# Create a list of years\n",
    "years = [\"2011-2040 (2020)\", \"2041-2070 (2050)\", \"2071-2100 (2080)\"]\n",
    "year_mapping = {\n",
    "    \"2071-2100 (2080)\": \"2080\",\n",
    "    \"2011-2040 (2020)\": \"2020\",\n",
    "    \"2041-2070 (2050)\": \"2050\",\n",
    "}\n",
    "# Create a list of crops\n",
    "crop_map = {\n",
    "    \"Banana\": \"bana\",\n",
    "    \"Rice\": \"ricw\",\n",
    "    \"Wheat\": \"whea\",\n",
    "    \"Soybean\": \"soyb\",\n",
    "    \"Sugarcane\": \"sugc\",\n",
    "}\n",
    "# Create the widgets\n",
    "year_widget = widgets.Dropdown(options=years, description=\"Select Year:\")\n",
    "crop_widget = widgets.Dropdown(options=crop_map.keys(), description=\"Select Crop:\")\n",
    "\n",
    "potential_yield_checkbox = widgets.Checkbox(\n",
    "    value=False,\n",
    "    description=\"Smoothed\",\n",
    "    disabled=False,\n",
    ")\n",
    "production_value = widgets.Label()\n",
    "# Display the widgets\n",
    "potential_yield_hbox = widgets.HBox(\n",
    "    [year_widget, crop_widget, potential_yield_checkbox, production_value]\n",
    ")\n",
    "\n",
    "potential_yield_map = Map(\n",
    "    center=(lat, long),\n",
    "    zoom=8,\n",
    "    dragging=False,\n",
    "    layout=Layout(height=\"800px\"),\n",
    "    basemap=basemaps.Esri.WorldImagery,\n",
    ")\n",
    "zoom_slider = IntSlider(description=\"Zoom level:\", min=0, max=15, value=9)\n",
    "jslink((zoom_slider, \"value\"), (potential_yield_map, \"zoom\"))\n",
    "potential_yield_widgetControl = WidgetControl(widget=zoom_slider, position=\"topright\")\n",
    "\n",
    "\n",
    "# Shared display parameters\n",
    "potential_yield_display_dict = dict(\n",
    "    # vmin=0, vmax=9100,\n",
    "    cmap=\"coolwarm\",\n",
    "    opacity=0.75,\n",
    "    max_zoom=max_zoom,\n",
    "    max_native_zoom=max_zoom,\n",
    ")\n",
    "\n",
    "# Create 2 tile layers from different raster\n",
    "potential_yield_l_client = TileClient(\n",
    "    \"Potential Yield/potential_yield_gfdlesm2m_rcp2p6_2020_bana200a_yld.tif\"\n",
    ")\n",
    "potential_yield_r_client = TileClient(\n",
    "    \"Potential Yield/potential_yield_gfdlesm2m_rcp8p5_2020_bana200a_yld.tif\"\n",
    ")\n",
    "left_layer_new = get_leaflet_tile_layer(\n",
    "    potential_yield_l_client, **potential_yield_display_dict\n",
    ")\n",
    "right_layer_new = get_leaflet_tile_layer(\n",
    "    potential_yield_r_client, **potential_yield_display_dict\n",
    ")\n",
    "potential_yield_control = SplitMapControl(\n",
    "    left_layer=left_layer_new, right_layer=right_layer_new\n",
    ")\n",
    "\n",
    "potential_yield_marker = Marker(location=(lat, long))\n",
    "potential_yield_map.add_layer(potential_yield_marker)\n",
    "\n",
    "\n",
    "# Function to update map\n",
    "def potential_yield_value_change(change):\n",
    "    potential_yield_update_map(\n",
    "        left_layer_new, right_layer_new, potential_yield_control, change\n",
    "    )\n",
    "\n",
    "\n",
    "def potential_yield_update_map(left_layer_new, right_layer_new, control, change):\n",
    "    year = year_mapping[year_widget.value]\n",
    "    crop = crop_map[crop_widget.value]\n",
    "    smoothed = potential_yield_checkbox.value\n",
    "    for control in potential_yield_map.controls:\n",
    "        if isinstance(control, SplitMapControl):\n",
    "            potential_yield_map.remove_control(control)\n",
    "    l_name = (\n",
    "        f\"Potential Yield/potential_yield_gfdlesm2m_rcp2p6_{year}_{crop}200a_yld.tif\"\n",
    "    )\n",
    "    r_name = (\n",
    "        f\"Potential Yield/potential_yield_gfdlesm2m_rcp8p5_{year}_{crop}200a_yld.tif\"\n",
    "    )\n",
    "    if smoothed:\n",
    "        l_name = smooth(l_name)\n",
    "        r_name = smooth(r_name)\n",
    "    l_client = TileClient(l_name)\n",
    "    r_client = TileClient(r_name)\n",
    "    # Create new layers\n",
    "    left_layer_new = get_leaflet_tile_layer(l_client, **potential_yield_display_dict)\n",
    "    right_layer_new = get_leaflet_tile_layer(r_client, **potential_yield_display_dict)\n",
    "\n",
    "    # Add a new SplitMapControl with the new layers\n",
    "    control = SplitMapControl(left_layer=left_layer_new, right_layer=right_layer_new)\n",
    "    # Add the marker to the map\n",
    "    potential_yield_map.add_control(control)\n",
    "    potential_yield_marker_move(change, potential_yield_marker.location)\n",
    "\n",
    "\n",
    "def potential_yield_marker_move(event, location):\n",
    "    year = year_mapping[year_widget.value]\n",
    "    crop = crop_map[crop_widget.value]\n",
    "    new_lat, new_long = location\n",
    "    l_pix = getCoordinatePixel(\n",
    "        f\"Potential Yield/potential_yield_gfdlesm2m_rcp2p6_{year}_{crop}200a_yld.tif\",\n",
    "        new_long,\n",
    "        new_lat,\n",
    "    )\n",
    "    r_pix = getCoordinatePixel(\n",
    "        f\"Potential Yield/potential_yield_gfdlesm2m_rcp8p5_{year}_{crop}200a_yld.tif\",\n",
    "        new_long,\n",
    "        new_lat,\n",
    "    )\n",
    "    production_value.value = f\"Yield: {l_pix*1000:,.0f} vs {r_pix*1000:,.0f} tons/ha at {location[0]:.2f}, {location[1]:.2f}\"\n",
    "\n",
    "\n",
    "potential_yield_marker.on_move(potential_yield_marker_move)\n",
    "# Set the function to be called on value change\n",
    "year_widget.observe(potential_yield_value_change, names=\"value\")\n",
    "crop_widget.observe(potential_yield_value_change, names=\"value\")\n",
    "potential_yield_checkbox.observe(potential_yield_value_change, names=\"value\")\n",
    "\n",
    "addElOro(potential_yield_map, \"ecu_admbnda_adm2_inec_20190724\")\n",
    "potential_yield_map.add_control(potential_yield_widgetControl)\n",
    "\n",
    "\n",
    "# Create a marker at the given latitude and longitude\n",
    "\n",
    "potential_yield_map.add_control(ScaleControl(position=\"bottomleft\"))\n",
    "potential_yield_map.add_control(LayersControl())\n",
    "potential_yield_map.add_control(FullScreenControl())\n",
    "\n",
    "# m.add_control(control)\n",
    "display(Markdown(\"## Potential Crop Yield RCP2.6 vs RCP8.5\"))\n",
    "display(potential_yield_hbox)\n",
    "display(potential_yield_map)\n",
    "potential_yield_value_change({\"new\": 0})"
   ]
  },
  {
   "cell_type": "code",
   "execution_count": 10,
   "id": "18a01e2a-e36c-42e1-bc98-ee68e73c4625",
   "metadata": {
    "tags": []
   },
   "outputs": [
    {
     "data": {
      "text/markdown": [
       "## Potential Crop Yield Delta RCP2.6 vs RCP8.5"
      ],
      "text/plain": [
       "<IPython.core.display.Markdown object>"
      ]
     },
     "metadata": {},
     "output_type": "display_data"
    },
    {
     "data": {
      "application/vnd.jupyter.widget-view+json": {
       "model_id": "c9f346c8b02b4a3ca2b69d9826267be7",
       "version_major": 2,
       "version_minor": 0
      },
      "text/plain": [
       "HBox(children=(Dropdown(description='Select Year:', options=('2011-2040 (2020)', '2041-2070 (2050)', '2071-210…"
      ]
     },
     "metadata": {},
     "output_type": "display_data"
    },
    {
     "data": {
      "application/vnd.jupyter.widget-view+json": {
       "model_id": "debb706093f34930868dd9ebf6147d16",
       "version_major": 2,
       "version_minor": 0
      },
      "text/plain": [
       "Map(center=[-3.538806962642807, -79.84343566192852], controls=(ZoomControl(options=['position', 'zoom_in_text'…"
      ]
     },
     "metadata": {},
     "output_type": "display_data"
    }
   ],
   "source": [
    "# +\n",
    "# Create a list of years\n",
    "years = [\"2011-2040 (2020)\", \"2041-2070 (2050)\", \"2071-2100 (2080)\"]\n",
    "year_mapping = {\n",
    "    \"2071-2100 (2080)\": \"2080\",\n",
    "    \"2011-2040 (2020)\": \"2020\",\n",
    "    \"2041-2070 (2050)\": \"2050\",\n",
    "}\n",
    "year_vmap = {\"2080\": (2, 3500), \"2050\": (2, 400), \"2020\": (2, 70)}\n",
    "# Create a list of crops\n",
    "\n",
    "crop_map = {\n",
    "    \"Banana\": \"bana\",\n",
    "    \"Rice\": \"ricw\",\n",
    "    \"Wheat\": \"whea\",\n",
    "    \"Soybean\": \"soyb\",\n",
    "    \"Sugarcane\": \"sugc\",\n",
    "}\n",
    "# Create the widgets\n",
    "year_widget = widgets.Dropdown(options=years, description=\"Select Year:\")\n",
    "crop_widget = widgets.Dropdown(options=crop_map.keys(), description=\"Select Crop:\")\n",
    "\n",
    "yield_delta_checkbox = widgets.Checkbox(\n",
    "    value=False,\n",
    "    description=\"Smoothed\",\n",
    "    disabled=False,\n",
    ")\n",
    "yield_delta_value = widgets.Label()\n",
    "# Display the widgets\n",
    "yield_delta_hbox = widgets.HBox(\n",
    "    [year_widget, crop_widget, yield_delta_checkbox, yield_delta_value]\n",
    ")\n",
    "\n",
    "yield_delta_map = Map(\n",
    "    center=(lat, long),\n",
    "    zoom=8,\n",
    "    dragging=True,\n",
    "    layout=Layout(height=\"800px\"),\n",
    "    basemap=basemaps.Esri.WorldImagery,\n",
    ")\n",
    "zoom_slider = IntSlider(description=\"Zoom level:\", min=0, max=15, value=9)\n",
    "jslink((zoom_slider, \"value\"), (yield_delta_map, \"zoom\"))\n",
    "yield_delta_widgetControl = WidgetControl(widget=zoom_slider, position=\"topright\")\n",
    "\n",
    "\n",
    "# Shared display parameters\n",
    "yield_delta_display_dict = dict(\n",
    "    vmin=0,\n",
    "    vmax=3000,\n",
    "    cmap=\"coolwarm\",\n",
    "    opacity=0.75,\n",
    "    max_zoom=max_zoom,\n",
    "    max_native_zoom=max_zoom,\n",
    ")\n",
    "\n",
    "yield_delta_marker = Marker(location=(lat, long))\n",
    "yield_delta_map.add_layer(yield_delta_marker)\n",
    "\n",
    "\n",
    "# Function to update map\n",
    "def yield_delta_value_change(change):\n",
    "    yield_delta_update_map(change)\n",
    "\n",
    "\n",
    "def yield_delta_update_map(change):\n",
    "    year = year_mapping[year_widget.value]\n",
    "    crop = crop_map[crop_widget.value]\n",
    "    smoothed = yield_delta_checkbox.value\n",
    "    yield_delta_display_dict[\"vmin\"] = year_vmap[year][0]\n",
    "    yield_delta_display_dict[\"vmax\"] = year_vmap[year][1]\n",
    "    for layer in yield_delta_map.layers:\n",
    "        if \"BoundTileLayer\" in str(type(layer)):\n",
    "            yield_delta_map.remove_control(layer)\n",
    "    l_name = (\n",
    "        f\"Potential Yield/potential_yield_gfdlesm2m_rcp2p6_{year}_{crop}200a_yld.tif\"\n",
    "    )\n",
    "    r_name = (\n",
    "        f\"Potential Yield/potential_yield_gfdlesm2m_rcp8p5_{year}_{crop}200a_yld.tif\"\n",
    "    )\n",
    "    with rasterio.open(l_name) as src1:\n",
    "        band1 = src1.read(1)  # , window=window)\n",
    "\n",
    "    with rasterio.open(r_name) as src2:\n",
    "        band2 = src2.read(1)  # , window=window)\n",
    "\n",
    "    # Compute the delta\n",
    "    delta = np.abs(band1 - band2)\n",
    "    new_file = f\"potential_yield_gfdlesm2m_DELTA_{year}_{crop}200a_yld.tif\"\n",
    "    with rasterio.open(\n",
    "        new_file,\n",
    "        \"w\",\n",
    "        driver=\"GTiff\",\n",
    "        height=delta.shape[0],\n",
    "        width=delta.shape[1],\n",
    "        count=1,\n",
    "        dtype=delta.dtype,\n",
    "        crs=src1.crs,\n",
    "        transform=src1.transform,\n",
    "    ) as dst:\n",
    "        dst.write(delta, 1)\n",
    "\n",
    "    # Return a new DatasetReader for the new file\n",
    "    if smoothed:\n",
    "        delta_fs = smooth(new_file)\n",
    "    else:\n",
    "        delta_fs = rasterio.open(new_file)\n",
    "    new_client = TileClient(delta_fs)\n",
    "    # Create new layers\n",
    "    layer_new = get_leaflet_tile_layer(new_client, **yield_delta_display_dict)\n",
    "\n",
    "    # Add a new SplitMapControl with the new layers\n",
    "    yield_delta_map.add_layer(layer_new)\n",
    "    yield_delta_marker_move(change, marker.location)\n",
    "\n",
    "\n",
    "def yield_delta_marker_move(event, location):\n",
    "    year = year_mapping[year_widget.value]\n",
    "    crop = crop_map[crop_widget.value]\n",
    "    new_lat, new_long = location\n",
    "    l_pix = getCoordinatePixel(\n",
    "        f\"Potential Yield/potential_yield_gfdlesm2m_rcp2p6_{year}_{crop}200a_yld.tif\",\n",
    "        new_long,\n",
    "        new_lat,\n",
    "    )\n",
    "    r_pix = getCoordinatePixel(\n",
    "        f\"Potential Yield/potential_yield_gfdlesm2m_rcp8p5_{year}_{crop}200a_yld.tif\",\n",
    "        new_long,\n",
    "        new_lat,\n",
    "    )\n",
    "    yield_delta_value.value = f\"Yield: {l_pix*1000:,.0f} vs {r_pix*1000:,.0f} (delta {r_pix-l_pix}) tons/ha at {location[0]:.2f}, {location[1]:.2f}\"\n",
    "\n",
    "\n",
    "yield_delta_marker.on_move(yield_delta_marker_move)\n",
    "# Set the function to be called on value change\n",
    "year_widget.observe(yield_delta_value_change, names=\"value\")\n",
    "crop_widget.observe(yield_delta_value_change, names=\"value\")\n",
    "yield_delta_checkbox.observe(yield_delta_value_change, names=\"value\")\n",
    "\n",
    "\n",
    "yield_delta_map.add_control(yield_delta_widgetControl)\n",
    "\n",
    "\n",
    "# Create a marker at the given latitude and longitude\n",
    "\n",
    "yield_delta_map.add_control(ScaleControl(position=\"bottomleft\"))\n",
    "yield_delta_map.add_control(LayersControl())\n",
    "yield_delta_map.add_control(FullScreenControl())\n",
    "addElOro(yield_delta_map, \"ecu_admbnda_adm2_inec_20190724\")\n",
    "display(Markdown(\"## Potential Crop Yield Delta RCP2.6 vs RCP8.5\"))\n",
    "display(yield_delta_hbox)\n",
    "display(yield_delta_map)\n",
    "yield_delta_value_change({\"new\": 0})"
   ]
  }
 ],
 "metadata": {
  "kernelspec": {
   "display_name": "Python 3 (ipykernel)",
   "language": "python",
   "name": "python3"
  },
  "language_info": {
   "codemirror_mode": {
    "name": "ipython",
    "version": 3
   },
   "file_extension": ".py",
   "mimetype": "text/x-python",
   "name": "python",
   "nbconvert_exporter": "python",
   "pygments_lexer": "ipython3",
   "version": "3.11.3"
  }
 },
 "nbformat": 4,
 "nbformat_minor": 5
}
