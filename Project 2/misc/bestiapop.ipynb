{
 "cells": [
  {
   "cell_type": "code",
   "execution_count": 2,
   "id": "e6f1fef5",
   "metadata": {
    "tags": []
   },
   "outputs": [],
   "source": [
    "import numpy as np\n",
    "import os\n",
    "import pandas as pd\n",
    "from bestiapop import bestiapop\n"
   ]
  },
  {
   "cell_type": "code",
   "execution_count": 3,
   "id": "93228c2d",
   "metadata": {
    "tags": []
   },
   "outputs": [],
   "source": [
    "action='generate-climate-file'\n",
    "data_source='nasapower'\n",
    "#minimum and maximum limits of the year range are included in the download\n",
    "year_range='1981-2010'\n",
    "climate_variables=['radiation', 'max_temp', 'min_temp', 'daily_rain']\n",
    "lat_range=[38.25, 39.75]\n",
    "lon_range=[-87.75, -86.25]\n",
    "output_type='dataframe' # <-- selecting pandas dataframe as output of our data processing\n",
    "output_path=None # <-- no dir since we are not dumping data to a file"
   ]
  },
  {
   "cell_type": "code",
   "execution_count": 4,
   "id": "25df0ca2",
   "metadata": {
    "tags": []
   },
   "outputs": [],
   "source": [
    "climate_data = bestiapop.CLIMATEBEAST(\n",
    "    action=action,\n",
    "    data_source=data_source,\n",
    "    output_path=output_path,\n",
    "    output_type=output_type,\n",
    "    input_path=None,\n",
    "    climate_variables=climate_variables,\n",
    "    year_range=year_range,\n",
    "    lat_range=lat_range,\n",
    "    lon_range=lon_range,\n",
    "    multiprocessing=None\n",
    "    )"
   ]
  },
  {
   "cell_type": "code",
   "execution_count": 5,
   "id": "d3e7776a",
   "metadata": {
    "tags": []
   },
   "outputs": [
    {
     "name": "stderr",
     "output_type": "stream",
     "text": [
      "2023-05-14 21:16:31 - POPBEAST - Extracting data and converting to dataframe format\n"
     ]
    },
    {
     "name": "stdout",
     "output_type": "stream",
     "text": [
      "Total Progress:   0%|                                                                                                                                                                                                                                     | 0/4 [00:00<?, ?it/s]\n"
     ]
    },
    {
     "ename": "KeyError",
     "evalue": "'features'",
     "output_type": "error",
     "traceback": [
      "\u001b[0;31m---------------------------------------------------------------------------\u001b[0m",
      "\u001b[0;31mAttributeError\u001b[0m                            Traceback (most recent call last)",
      "File \u001b[0;32m~/.conda/envs/notebook/lib/python3.10/site-packages/bestiapop/connectors/nasapower_connector.py:127\u001b[0m, in \u001b[0;36mNASAPowerClimateDataConnector.get_yearly_data\u001b[0;34m(self, lat, lon, value_array, year, year_range, climate_variable)\u001b[0m\n\u001b[1;32m    124\u001b[0m \u001b[38;5;28;01mtry\u001b[39;00m:\n\u001b[1;32m    125\u001b[0m     \u001b[38;5;66;03m# Attempt to fetch the information from currently available data from a previous API call\u001b[39;00m\n\u001b[1;32m    126\u001b[0m     \u001b[38;5;66;03m# Check if the coordinates in the available data are different than those being requested\u001b[39;00m\n\u001b[0;32m--> 127\u001b[0m     current_lon, current_lat, current_elev \u001b[38;5;241m=\u001b[39m \u001b[38;5;28;43mself\u001b[39;49m\u001b[38;5;241;43m.\u001b[39;49m\u001b[43mclimate_metadata_coordinates\u001b[49m\n\u001b[1;32m    128\u001b[0m     current_lat \u001b[38;5;241m=\u001b[39m np\u001b[38;5;241m.\u001b[39mround(current_lat, decimals\u001b[38;5;241m=\u001b[39m\u001b[38;5;241m2\u001b[39m) \u001b[38;5;66;03m# Need to round values since NASA POWER API returns approximative numbers with 5 decimals\u001b[39;00m\n",
      "\u001b[0;31mAttributeError\u001b[0m: 'NASAPowerClimateDataConnector' object has no attribute 'climate_metadata_coordinates'",
      "\nDuring handling of the above exception, another exception occurred:\n",
      "\u001b[0;31mKeyError\u001b[0m                                  Traceback (most recent call last)",
      "Cell \u001b[0;32mIn[5], line 1\u001b[0m\n\u001b[0;32m----> 1\u001b[0m data \u001b[38;5;241m=\u001b[39m \u001b[43mclimate_data\u001b[49m\u001b[38;5;241;43m.\u001b[39;49m\u001b[43mprocess_records\u001b[49m\u001b[43m(\u001b[49m\u001b[43maction\u001b[49m\u001b[43m)\u001b[49m\n",
      "File \u001b[0;32m~/.conda/envs/notebook/lib/python3.10/site-packages/bestiapop/bestiapop.py:595\u001b[0m, in \u001b[0;36mCLIMATEBEAST.process_records\u001b[0;34m(self, action)\u001b[0m\n\u001b[1;32m    587\u001b[0m     \u001b[38;5;28;01melif\u001b[39;00m \u001b[38;5;28mself\u001b[39m\u001b[38;5;241m.\u001b[39mdata_source \u001b[38;5;241m==\u001b[39m \u001b[38;5;124m\"\u001b[39m\u001b[38;5;124mnasapower\u001b[39m\u001b[38;5;124m\"\u001b[39m:\n\u001b[1;32m    588\u001b[0m         \u001b[38;5;66;03m# Initialize BestiaPop required class instances\u001b[39;00m\n\u001b[1;32m    589\u001b[0m         nasapower \u001b[38;5;241m=\u001b[39m nasapower_connector\u001b[38;5;241m.\u001b[39mNASAPowerClimateDataConnector(\n\u001b[1;32m    590\u001b[0m             climate_variables\u001b[38;5;241m=\u001b[39m\u001b[38;5;28mself\u001b[39m\u001b[38;5;241m.\u001b[39mclimate_variables,\n\u001b[1;32m    591\u001b[0m             data_source\u001b[38;5;241m=\u001b[39m\u001b[38;5;28mself\u001b[39m\u001b[38;5;241m.\u001b[39mdata_source,\n\u001b[1;32m    592\u001b[0m             input_path\u001b[38;5;241m=\u001b[39m\u001b[38;5;28mself\u001b[39m\u001b[38;5;241m.\u001b[39minput_path,\n\u001b[1;32m    593\u001b[0m         )\n\u001b[0;32m--> 595\u001b[0m         final_df_latlon_tuple_list \u001b[38;5;241m=\u001b[39m \u001b[43mnasapower\u001b[49m\u001b[38;5;241;43m.\u001b[39;49m\u001b[43mgenerate_climate_dataframe_from_nasapower_cloud_api\u001b[49m\u001b[43m(\u001b[49m\n\u001b[1;32m    596\u001b[0m \u001b[43m            \u001b[49m\u001b[43myear_range\u001b[49m\u001b[38;5;241;43m=\u001b[39;49m\u001b[38;5;28;43mself\u001b[39;49m\u001b[38;5;241;43m.\u001b[39;49m\u001b[43myear_range\u001b[49m\u001b[43m,\u001b[49m\n\u001b[1;32m    597\u001b[0m \u001b[43m            \u001b[49m\u001b[43mclimate_variables\u001b[49m\u001b[38;5;241;43m=\u001b[39;49m\u001b[38;5;28;43mself\u001b[39;49m\u001b[38;5;241;43m.\u001b[39;49m\u001b[43mclimate_variables\u001b[49m\u001b[43m,\u001b[49m\u001b[43m \u001b[49m\n\u001b[1;32m    598\u001b[0m \u001b[43m            \u001b[49m\u001b[43mlat_range\u001b[49m\u001b[38;5;241;43m=\u001b[39;49m\u001b[38;5;28;43mself\u001b[39;49m\u001b[38;5;241;43m.\u001b[39;49m\u001b[43mlat_range\u001b[49m\u001b[43m,\u001b[49m\n\u001b[1;32m    599\u001b[0m \u001b[43m            \u001b[49m\u001b[43mlon_range\u001b[49m\u001b[38;5;241;43m=\u001b[39;49m\u001b[38;5;28;43mself\u001b[39;49m\u001b[38;5;241;43m.\u001b[39;49m\u001b[43mlon_range\u001b[49m\u001b[43m,\u001b[49m\n\u001b[1;32m    600\u001b[0m \u001b[43m            \u001b[49m\u001b[43minput_dir\u001b[49m\u001b[38;5;241;43m=\u001b[39;49m\u001b[38;5;28;43mself\u001b[39;49m\u001b[38;5;241;43m.\u001b[39;49m\u001b[43minput_path\u001b[49m\n\u001b[1;32m    601\u001b[0m \u001b[43m        \u001b[49m\u001b[43m)\u001b[49m\n\u001b[1;32m    602\u001b[0m \u001b[38;5;28;01melse\u001b[39;00m:\n\u001b[1;32m    603\u001b[0m     final_df_latlon_tuple_list \u001b[38;5;241m=\u001b[39m beastutils\u001b[38;5;241m.\u001b[39mgenerate_climate_dataframe_from_disk(\n\u001b[1;32m    604\u001b[0m         year_range\u001b[38;5;241m=\u001b[39m\u001b[38;5;28mself\u001b[39m\u001b[38;5;241m.\u001b[39myear_range,\n\u001b[1;32m    605\u001b[0m         climate_variables\u001b[38;5;241m=\u001b[39m\u001b[38;5;28mself\u001b[39m\u001b[38;5;241m.\u001b[39mclimate_variables, \n\u001b[0;32m   (...)\u001b[0m\n\u001b[1;32m    608\u001b[0m         input_dir\u001b[38;5;241m=\u001b[39m\u001b[38;5;28mself\u001b[39m\u001b[38;5;241m.\u001b[39minput_path\n\u001b[1;32m    609\u001b[0m     )\n",
      "File \u001b[0;32m~/.conda/envs/notebook/lib/python3.10/site-packages/bestiapop/connectors/nasapower_connector.py:319\u001b[0m, in \u001b[0;36mNASAPowerClimateDataConnector.generate_climate_dataframe_from_nasapower_cloud_api\u001b[0;34m(self, year_range, climate_variables, lat_range, lon_range, input_dir)\u001b[0m\n\u001b[1;32m    313\u001b[0m \u001b[38;5;66;03m# here we are checking whether the get_values_from_cdf function\u001b[39;00m\n\u001b[1;32m    314\u001b[0m \u001b[38;5;66;03m# returns with a ValueError (meaning there were no values for\u001b[39;00m\n\u001b[1;32m    315\u001b[0m \u001b[38;5;66;03m# that particular lat & long combination). If it does return\u001b[39;00m\n\u001b[1;32m    316\u001b[0m \u001b[38;5;66;03m# with an error, we skip this loop and don't produce any output files\u001b[39;00m\n\u001b[1;32m    318\u001b[0m \u001b[38;5;28;01mtry\u001b[39;00m:\n\u001b[0;32m--> 319\u001b[0m     var_year_lat_lon_df \u001b[38;5;241m=\u001b[39m \u001b[38;5;28;43mself\u001b[39;49m\u001b[38;5;241;43m.\u001b[39;49m\u001b[43mget_yearly_data\u001b[49m\u001b[43m(\u001b[49m\u001b[43mlat\u001b[49m\u001b[43m,\u001b[49m\u001b[43m \u001b[49m\u001b[43mlon\u001b[49m\u001b[43m,\u001b[49m\u001b[43m \u001b[49m\u001b[38;5;28;43;01mNone\u001b[39;49;00m\u001b[43m,\u001b[49m\u001b[43m \u001b[49m\u001b[43myear\u001b[49m\u001b[43m,\u001b[49m\u001b[43m \u001b[49m\u001b[43myear_range\u001b[49m\u001b[43m,\u001b[49m\u001b[43m \u001b[49m\u001b[43mclimate_variable\u001b[49m\u001b[43m)\u001b[49m                          \n\u001b[1;32m    321\u001b[0m \u001b[38;5;28;01mexcept\u001b[39;00m \u001b[38;5;167;01mValueError\u001b[39;00m:\n\u001b[1;32m    322\u001b[0m     \u001b[38;5;28mself\u001b[39m\u001b[38;5;241m.\u001b[39mlogger\u001b[38;5;241m.\u001b[39mwarning(\u001b[38;5;124m\"\u001b[39m\u001b[38;5;124mThis longitude value will be skipped for the rest of the climate variables and years\u001b[39m\u001b[38;5;124m\"\u001b[39m)\n",
      "File \u001b[0;32m~/.conda/envs/notebook/lib/python3.10/site-packages/bestiapop/connectors/nasapower_connector.py:201\u001b[0m, in \u001b[0;36mNASAPowerClimateDataConnector.get_yearly_data\u001b[0;34m(self, lat, lon, value_array, year, year_range, climate_variable)\u001b[0m\n\u001b[1;32m    163\u001b[0m \u001b[38;5;250m    \u001b[39m\u001b[38;5;124;03m'''\u001b[39;00m\n\u001b[1;32m    164\u001b[0m \u001b[38;5;124;03m        {'features': [\u001b[39;00m\n\u001b[1;32m    165\u001b[0m \u001b[38;5;124;03m            {'geometry': {'coordinates': [145.50001, -41.14999, 325.05],\u001b[39;00m\n\u001b[0;32m   (...)\u001b[0m\n\u001b[1;32m    197\u001b[0m \u001b[38;5;124;03m            'type': 'FeatureCollection'}\u001b[39;00m\n\u001b[1;32m    198\u001b[0m \u001b[38;5;124;03m    '''\u001b[39;00m\n\u001b[1;32m    200\u001b[0m     \u001b[38;5;66;03m# Capture all the climate variables inside this class object to not have to repeat calls to the cloud API\u001b[39;00m\n\u001b[0;32m--> 201\u001b[0m     \u001b[38;5;28mself\u001b[39m\u001b[38;5;241m.\u001b[39mclimate_metadata_coordinates \u001b[38;5;241m=\u001b[39m \u001b[43mjson_data\u001b[49m\u001b[43m[\u001b[49m\u001b[38;5;124;43m'\u001b[39;49m\u001b[38;5;124;43mfeatures\u001b[39;49m\u001b[38;5;124;43m'\u001b[39;49m\u001b[43m]\u001b[49m[\u001b[38;5;241m0\u001b[39m][\u001b[38;5;124m'\u001b[39m\u001b[38;5;124mgeometry\u001b[39m\u001b[38;5;124m'\u001b[39m][\u001b[38;5;124m'\u001b[39m\u001b[38;5;124mcoordinates\u001b[39m\u001b[38;5;124m'\u001b[39m]\n\u001b[1;32m    202\u001b[0m     \u001b[38;5;28mself\u001b[39m\u001b[38;5;241m.\u001b[39mclimate_data \u001b[38;5;241m=\u001b[39m json_data[\u001b[38;5;124m'\u001b[39m\u001b[38;5;124mfeatures\u001b[39m\u001b[38;5;124m'\u001b[39m][\u001b[38;5;241m0\u001b[39m][\u001b[38;5;124m'\u001b[39m\u001b[38;5;124mproperties\u001b[39m\u001b[38;5;124m'\u001b[39m][\u001b[38;5;124m'\u001b[39m\u001b[38;5;124mparameter\u001b[39m\u001b[38;5;124m'\u001b[39m]\n\u001b[1;32m    204\u001b[0m \u001b[38;5;66;03m# Proceed to extract the values into a list for each day in the year\u001b[39;00m\n",
      "\u001b[0;31mKeyError\u001b[0m: 'features'"
     ]
    }
   ],
   "source": [
    "data = climate_data.process_records(action)"
   ]
  }
 ],
 "metadata": {
  "kernelspec": {
   "display_name": "Python 3 (ipykernel)",
   "language": "python",
   "name": "python3"
  },
  "language_info": {
   "codemirror_mode": {
    "name": "ipython",
    "version": 3
   },
   "file_extension": ".py",
   "mimetype": "text/x-python",
   "name": "python",
   "nbconvert_exporter": "python",
   "pygments_lexer": "ipython3",
   "version": "3.10.10"
  }
 },
 "nbformat": 4,
 "nbformat_minor": 5
}
