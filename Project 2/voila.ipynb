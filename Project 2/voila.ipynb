{
 "cells": [
  {
   "cell_type": "code",
   "execution_count": 1,
   "id": "20cafe00-31c8-42ea-9739-5aec6f33a8fd",
   "metadata": {
    "slideshow": {
     "slide_type": "-"
    },
    "tags": []
   },
   "outputs": [],
   "source": [
    "import glob\n",
    "import json\n",
    "import os\n",
    "from pathlib import Path\n",
    "from urllib import request\n",
    "\n",
    "import geopandas as gpd\n",
    "import ipywidgets as widgets\n",
    "# from raster2xyz.raster2xyz import Raster2xyz\n",
    "import matplotlib.pyplot as plt\n",
    "import pandas as pd\n",
    "import rasterio\n",
    "import rioxarray as rxr\n",
    "from ipyleaflet import (FullScreenControl, GeoData, LayersControl,\n",
    "                        LegendControl, Map, Marker, ScaleControl,\n",
    "                        SplitMapControl, WidgetControl, basemaps, Popup, TileLayer, AwesomeIcon, Icon)\n",
    "from IPython.display import Markdown, display\n",
    "from ipywidgets import Button, IntSlider, Layout, jslink, widgets, HTML\n",
    "from localtileserver import TileClient, get_leaflet_tile_layer\n",
    "from rasterio.io import MemoryFile\n",
    "from rasterio.plot import show\n",
    "from rasterio.warp import transform\n",
    "from rasterio.windows import Window\n",
    "from scipy.ndimage import gaussian_filter\n",
    "from shapely.geometry import Point\n",
    "from tqdm.auto import tqdm\n",
    "import numpy as np"
   ]
  },
  {
   "cell_type": "code",
   "execution_count": 62,
   "id": "b805819d-070f-4e0f-9734-a7c31407388a",
   "metadata": {
    "tags": []
   },
   "outputs": [],
   "source": [
    "def getCoordinatePixel(maps,lon,lat):\n",
    "    # open map\n",
    "    dataset = rasterio.open(maps)\n",
    "    # get pixel x+y of the coordinate\n",
    "    py, px = dataset.index(lon, lat)\n",
    "    # print(py, px)\n",
    "    # create 1x1px window of the pixel\n",
    "    window = rasterio.windows.Window(px - 1//2, py - 1//2, 1, 1)\n",
    "    # read rgb values of the window\n",
    "    clip = dataset.read(window=window)\n",
    "    return clip[0][0][0]\n",
    "lat = -3.7957\n",
    "long = -80.1151\n",
    "max_zoom = 30"
   ]
  },
  {
   "cell_type": "code",
   "execution_count": 84,
   "id": "11ddd628-ad26-47cd-9cef-eb67cce831bd",
   "metadata": {
    "tags": []
   },
   "outputs": [],
   "source": [
    "def addElOro(map_obj, selShp):\n",
    "    selDf = gpd.read_file('Ecuador shapefiles/'+selShp+'.shp')\n",
    "    selDf = selDf[selDf['ADM1_ES'] == \"El Oro\"]\n",
    "\n",
    "    geoDf = selDf.to_crs(4326)\n",
    "    lonCent = (geoDf.bounds.maxx + geoDf.bounds.minx).mean()/2\n",
    "    latCent = (geoDf.bounds.maxy + geoDf.bounds.miny).mean()/2\n",
    "\n",
    "    map_obj.center = (latCent,lonCent)\n",
    "    geoData = GeoData(geo_dataframe=geoDf, name=selShp, style={\"color\": \"magenta\", 'fillColor': 'magenta', 'fillOpacity': 0.05}) #style={'color': 'black', 'fillColor': 'green', 'opacity':0.05, 'weight':1.9, 'dashArray':'2', 'fillOpacity':0.6},\n",
    "                   # hover_style={'fillColor': 'red' , 'fillOpacity': 0.2})\n",
    "    map_obj.add_layer(geoData)\n",
    "def addEcuador(map_obj):\n",
    "    selDf = gpd.read_file('Ecuador shapefiles/ecu_admbnda_adm0_inec_20190724.shp')\n",
    "    selDf = selDf[selDf['ADM0_EN'] == \"Ecuador\"]\n",
    "\n",
    "    geoDf = selDf.to_crs(4326)\n",
    "    lonCent = (geoDf.bounds.maxx + geoDf.bounds.minx).mean()/2\n",
    "    latCent = (geoDf.bounds.maxy + geoDf.bounds.miny).mean()/2\n",
    "\n",
    "    map_obj.center = (latCent,lonCent)\n",
    "    geoData = GeoData(geo_dataframe=geoDf, name=\"ecu_admbnda_adm0_inec_20190724\", style={\"color\": \"pink\", 'fillColor': 'magenta', 'fillOpacity': 0}) #style={'color': 'black', 'fillColor': 'green', 'opacity':0.05, 'weight':1.9, 'dashArray':'2', 'fillOpacity':0.6},\n",
    "                   # hover_style={'fillColor': 'red' , 'fillOpacity': 0.2})\n",
    "    map_obj.add_layer(geoData)\n",
    "def get_shapefile_bounds(file_path, column=\"ADM0_EN\", value=\"Ecuador\"):\n",
    "    # Load the shapefile\n",
    "    gdf = gpd.read_file(file_path)\n",
    "\n",
    "    # Filter the DataFrame for the specified region\n",
    "    gdf = gdf[gdf[column] == value]\n",
    "\n",
    "    # Calculate the bounds for the region\n",
    "    # bounds = gdf.bounds\n",
    "\n",
    "    # If you want to transform the bounds to WGS84 (EPSG:4326), you can do:\n",
    "    gdf = gdf.to_crs('EPSG:4326')\n",
    "    bounds = gdf.total_bounds\n",
    "    minX, minY, maxX, maxY = bounds\n",
    "    bounds_tuple = (minX, maxY, maxX, minY)\n",
    "# [[south, west], [north, east]]\n",
    "    # Return the bounds\n",
    "    return bounds_tuple\n",
    "def showMap(selShp):\n",
    "    addElOro(m, selShp)\n",
    "def smooth_dataset(file_path, sigma):\n",
    "    path = Path(file_path)\n",
    "    smoothed_file = path.parent / f\"{path.stem}_smoothed_{sigma}_{path.suffix}\"\n",
    "    if smoothed_file.exists():\n",
    "        return rasterio.open(smoothed_file)\n",
    "    # Open the file\n",
    "    with rasterio.open(file_path) as src:\n",
    "        # Create an empty list to store the smoothed bands\n",
    "        smoothed_bands = []\n",
    "\n",
    "        # Apply the Gaussian filter to each band\n",
    "        for band in src.read():\n",
    "            smoothed_bands.append(gaussian_filter(band, sigma=sigma))\n",
    "\n",
    "        # Create a new GeoTiff file\n",
    "        \n",
    "        \n",
    "        with rasterio.open(smoothed_file, 'w', driver='GTiff', height=src.height,\n",
    "                           width=src.width, count=src.count, dtype=src.dtypes[0],\n",
    "                           crs=src.crs, transform=src.transform) as dst:\n",
    "            # Write the smoothed bands to the new file\n",
    "            for i, band in enumerate(smoothed_bands, start=1):\n",
    "                dst.write(band, i)\n",
    "\n",
    "    # Return a new DatasetReader for the new file\n",
    "    return rasterio.open(smoothed_file)"
   ]
  },
  {
   "cell_type": "code",
   "execution_count": 114,
   "id": "a02edb3e-3fcc-4ca3-9390-388765b4e08b",
   "metadata": {
    "tags": []
   },
   "outputs": [],
   "source": [
    "from osgeo import gdal\n",
    "from pathlib import Path\n",
    "\n",
    "def crop_and_reproject_dataset(file_path, bbox, xRes=None, yRes=None, resample_alg=gdal.GRA_CubicSpline):\n",
    "    path = Path(file_path)\n",
    "    cropped_file = str(path.parent / f\"{path.stem}_cropped.tif\")\n",
    "    reprojected_file = str(path.parent / f\"{path.stem}_interpolated.tif\")\n",
    "    if Path(reprojected_file).exists():\n",
    "        return rasterio.open(reprojected_file)\n",
    "    dst_crs = \"EPSG:4326\"\n",
    "    # Open the source file\n",
    "    src_ds = gdal.Open(str(file_path))\n",
    "    if src_ds is None:\n",
    "        print(f\"Could not open {file_path}\")\n",
    "        return None\n",
    "\n",
    "    # Crop the source image\n",
    "    translate_options = gdal.TranslateOptions(projWin=bbox)\n",
    "    cropped_ds = gdal.Translate(cropped_file, src_ds, options=translate_options)\n",
    "\n",
    "    # Clean up\n",
    "    src_ds = None\n",
    "\n",
    "    # Create Warp options\n",
    "    # srcNodata=0\n",
    "    warp_options = gdal.WarpOptions(dstSRS=dst_crs, xRes=xRes, yRes=yRes, resampleAlg=resample_alg, dstNodata=0)\n",
    "\n",
    "    # Reproject cropped image\n",
    "    reprojected_ds = gdal.Warp(reprojected_file, cropped_ds, options=warp_options)\n",
    "    \n",
    "    # Clean up\n",
    "    cropped_ds = None\n",
    "    reprojected_ds = None  # Close the dataset to write to disk\n",
    "    Path(cropped_file).unlink()\n",
    "    return rasterio.open(reprojected_file)\n",
    "def smooth(file_path):\n",
    "    minx =  -82.0\n",
    "    maxy =   -6.00\n",
    "    maxx =  -77.0\n",
    "    miny =   1.2#-1.00\n",
    "    bbox = (minx,miny,maxx,maxy)\n",
    "    # bbox = get_shapefile_bounds(\"Ecuador shapefiles/ecu_admbnda_adm0_inec_20190724.shp\")\n",
    "    # print(bbox)\n",
    "    bbox = (-82.00896662899999, 1.681834608000031, -75.18714655299993, -5.2)\n",
    "    return crop_and_reproject_dataset(file_path, bbox, xRes=0.01, yRes=0.01)"
   ]
  },
  {
   "cell_type": "code",
   "execution_count": 102,
   "id": "047a8d42",
   "metadata": {
    "tags": []
   },
   "outputs": [
    {
     "data": {
      "text/markdown": [
       "## Actual Yield 2010"
      ],
      "text/plain": [
       "<IPython.core.display.Markdown object>"
      ]
     },
     "metadata": {},
     "output_type": "display_data"
    },
    {
     "data": {
      "application/vnd.jupyter.widget-view+json": {
       "model_id": "59496eaf743d405386cff23b351ee004",
       "version_major": 2,
       "version_minor": 0
      },
      "text/plain": [
       "FloatSlider(value=0.0, description='Smoothing:', max=1.5)"
      ]
     },
     "metadata": {},
     "output_type": "display_data"
    },
    {
     "data": {
      "application/vnd.jupyter.widget-view+json": {
       "model_id": "5a680604b64748418eb50f947ff4fc55",
       "version_major": 2,
       "version_minor": 0
      },
      "text/plain": [
       "Map(center=[-1.667161357499964, -83.59805659099996], controls=(ZoomControl(options=['position', 'zoom_in_text'…"
      ]
     },
     "metadata": {},
     "output_type": "display_data"
    }
   ],
   "source": [
    "# production in 1000T\n",
    "client = TileClient(smooth(\"Actual Yields and Production/T/2010/ban_2010_prd.tif\"))\n",
    "yield_display = dict(\n",
    "    vmin=2, vmax=21,\n",
    "    cmap=\"coolwarm\",\n",
    "    opacity=0.75,\n",
    "    max_zoom=max_zoom,\n",
    "    max_native_zoom=max_zoom,\n",
    ")\n",
    "# Create ipyleaflet tile layer from that server\n",
    "t = get_leaflet_tile_layer(client, **yield_display)\n",
    "\n",
    "actual_yield_map = Map(center=(lat, long), zoom=9, layout=Layout(height='800px'), basemap=basemaps.Esri.WorldImagery)\n",
    "addElOro(actual_yield_map, \"ecu_admbnda_adm2_inec_20190724\")\n",
    "addEcuador(actual_yield_map)\n",
    "yieldd = getCoordinatePixel(\"Actual Yields and Production/T/2010/ban_2010_prd.tif\", long, lat)\n",
    "# Create a marker at the given latitude and longitude\n",
    "marker = Marker(location=(lat, long))\n",
    "slider = widgets.FloatSlider(\n",
    "    value=0,  # initial value\n",
    "    min=0,    # minimum value\n",
    "    max=1.5,    # maximum value\n",
    "    step=0.1, # increment step\n",
    "    description='Smoothing:',\n",
    "    orientation='horizontal',\n",
    "    readout=True,\n",
    ")\n",
    "def smooth_change(change):\n",
    "    smooth_factor = slider.value\n",
    "    for layer in actual_yield_map.layers:\n",
    "        # print(str(type(layer)))\n",
    "        if \"BoundTileLayer\" in str(type(layer)):\n",
    "            actual_yield_map.remove_control(layer)\n",
    "    client = TileClient(smooth_dataset(\"Actual Yields and Production/T/2010/ban_2010_prd.tif\", smooth_factor))\n",
    "\n",
    "    # Create ipyleaflet tile layer from that server\n",
    "    t = get_leaflet_tile_layer(client, **yield_display)\n",
    "    actual_yield_map.add_layer(t)\n",
    "def marker_move(event, location):\n",
    "    message1 = HTML()\n",
    "    pixel_value = getCoordinatePixel(\"Actual Yields and Production/T/2010/ban_2010_prd.tif\", location[1], location[0])\n",
    "    message1.value = f\"Yield: {pixel_value*1000:,.0f} tons at {location[0]:.4f}, {location[1]:.4f}\"\n",
    "    \n",
    "    # Popup with a given location on the map:\n",
    "    popup = Popup(\n",
    "        location=location,\n",
    "        child=message1,\n",
    "        close_button=False,\n",
    "        auto_close=False,\n",
    "        close_on_escape_key=False\n",
    "    )\n",
    "    actual_yield_map.add_layer(popup)\n",
    "    marker.popup = message1\n",
    "marker.on_move(marker_move)\n",
    "slider.observe(smooth_change, names=\"value\")\n",
    "# Display the widget\n",
    "\n",
    "# Add the marker to the map\n",
    "actual_yield_map.add_layer(marker)\n",
    "actual_yield_map.add_control(ScaleControl(position='bottomleft'))\n",
    "actual_yield_map.add_layer(t)\n",
    "el_oro_bounds = get_shapefile_bounds(\"Ecuador shapefiles/ecu_admbnda_adm1_inec_20190724.shp\", column=\"ADM1_ES\", value=\"El Oro\")\n",
    "   # bounds_tuple = (minX, maxY, maxX, minY)\n",
    "# [[south, west], [north, east]]\n",
    "actual_yield_map.fit_bounds([[el_oro_bounds[3], el_oro_bounds[2]], [el_oro_bounds[1], el_oro_bounds[0]]])\n",
    "display(Markdown(\"## Actual Yield 2010\"))\n",
    "# display(slider)\n",
    "display(actual_yield_map)\n"
   ]
  },
  {
   "cell_type": "code",
   "execution_count": 10,
   "id": "4fe5b464-4257-4d90-8cec-dc82a78150bd",
   "metadata": {
    "tags": []
   },
   "outputs": [
    {
     "data": {
      "text/markdown": [
       "## Mean Soil Organic Carbon (0-5cm, dg/kg)"
      ],
      "text/plain": [
       "<IPython.core.display.Markdown object>"
      ]
     },
     "metadata": {},
     "output_type": "display_data"
    },
    {
     "data": {
      "application/vnd.jupyter.widget-view+json": {
       "model_id": "c213f6acf92c49e2a014eb0d9ac7a47e",
       "version_major": 2,
       "version_minor": 0
      },
      "text/plain": [
       "Map(center=[-3.538806962642807, -79.84343566192852], controls=(ZoomControl(options=['position', 'zoom_in_text'…"
      ]
     },
     "metadata": {},
     "output_type": "display_data"
    },
    {
     "data": {
      "text/markdown": [
       "## Mean Silt (0-5cm, g/kg)"
      ],
      "text/plain": [
       "<IPython.core.display.Markdown object>"
      ]
     },
     "metadata": {},
     "output_type": "display_data"
    },
    {
     "data": {
      "application/vnd.jupyter.widget-view+json": {
       "model_id": "e5ecb303d0e54718a16ebb78c5d1ab23",
       "version_major": 2,
       "version_minor": 0
      },
      "text/plain": [
       "Map(center=[-3.538806962642807, -79.84343566192852], controls=(ZoomControl(options=['position', 'zoom_in_text'…"
      ]
     },
     "metadata": {},
     "output_type": "display_data"
    },
    {
     "data": {
      "text/markdown": [
       "## Mean Clay Content (0-5cm, g/kg)"
      ],
      "text/plain": [
       "<IPython.core.display.Markdown object>"
      ]
     },
     "metadata": {},
     "output_type": "display_data"
    },
    {
     "data": {
      "application/vnd.jupyter.widget-view+json": {
       "model_id": "2c4b733067ce4ffb93716bb46a9798a5",
       "version_major": 2,
       "version_minor": 0
      },
      "text/plain": [
       "Map(center=[-3.538806962642807, -79.84343566192852], controls=(ZoomControl(options=['position', 'zoom_in_text'…"
      ]
     },
     "metadata": {},
     "output_type": "display_data"
    },
    {
     "data": {
      "text/markdown": [
       "## Mean Nitrogen (0-5cm, cg/kg)"
      ],
      "text/plain": [
       "<IPython.core.display.Markdown object>"
      ]
     },
     "metadata": {},
     "output_type": "display_data"
    },
    {
     "data": {
      "application/vnd.jupyter.widget-view+json": {
       "model_id": "3b79710b78be4af7ab4d9f67edcb7599",
       "version_major": 2,
       "version_minor": 0
      },
      "text/plain": [
       "Map(center=[-3.538806962642807, -79.84343566192852], controls=(ZoomControl(options=['position', 'zoom_in_text'…"
      ]
     },
     "metadata": {},
     "output_type": "display_data"
    },
    {
     "data": {
      "text/markdown": [
       "## Mean Course Fragments (0-5cm, cm³/dm³)"
      ],
      "text/plain": [
       "<IPython.core.display.Markdown object>"
      ]
     },
     "metadata": {},
     "output_type": "display_data"
    },
    {
     "data": {
      "application/vnd.jupyter.widget-view+json": {
       "model_id": "6e56430acd2b4d91869c598b00a9a999",
       "version_major": 2,
       "version_minor": 0
      },
      "text/plain": [
       "Map(center=[-3.538806962642807, -79.84343566192852], controls=(ZoomControl(options=['position', 'zoom_in_text'…"
      ]
     },
     "metadata": {},
     "output_type": "display_data"
    },
    {
     "data": {
      "text/markdown": [
       "## Mean Cation Exchange Capacity (0-5cm, mmol(c)/kg)"
      ],
      "text/plain": [
       "<IPython.core.display.Markdown object>"
      ]
     },
     "metadata": {},
     "output_type": "display_data"
    },
    {
     "data": {
      "application/vnd.jupyter.widget-view+json": {
       "model_id": "b0da656440d845dc9543bf038a1ef8cd",
       "version_major": 2,
       "version_minor": 0
      },
      "text/plain": [
       "Map(center=[-3.538806962642807, -79.84343566192852], controls=(ZoomControl(options=['position', 'zoom_in_text'…"
      ]
     },
     "metadata": {},
     "output_type": "display_data"
    },
    {
     "data": {
      "text/markdown": [
       "## Mean Sand (0-5cm, g/kg)"
      ],
      "text/plain": [
       "<IPython.core.display.Markdown object>"
      ]
     },
     "metadata": {},
     "output_type": "display_data"
    },
    {
     "data": {
      "application/vnd.jupyter.widget-view+json": {
       "model_id": "6203d849ea3e45b6ac800ea092e53fd1",
       "version_major": 2,
       "version_minor": 0
      },
      "text/plain": [
       "Map(center=[-3.538806962642807, -79.84343566192852], controls=(ZoomControl(options=['position', 'zoom_in_text'…"
      ]
     },
     "metadata": {},
     "output_type": "display_data"
    },
    {
     "data": {
      "text/markdown": [
       "## Mean Bulk Density (0-5cm, cg/cm³)"
      ],
      "text/plain": [
       "<IPython.core.display.Markdown object>"
      ]
     },
     "metadata": {},
     "output_type": "display_data"
    },
    {
     "data": {
      "application/vnd.jupyter.widget-view+json": {
       "model_id": "51a257b6f4e646928edb28fb48b0f153",
       "version_major": 2,
       "version_minor": 0
      },
      "text/plain": [
       "Map(center=[-3.538806962642807, -79.84343566192852], controls=(ZoomControl(options=['position', 'zoom_in_text'…"
      ]
     },
     "metadata": {},
     "output_type": "display_data"
    },
    {
     "data": {
      "text/markdown": [
       "## Mean pH Water (0-5cm, pH * 10)"
      ],
      "text/plain": [
       "<IPython.core.display.Markdown object>"
      ]
     },
     "metadata": {},
     "output_type": "display_data"
    },
    {
     "data": {
      "application/vnd.jupyter.widget-view+json": {
       "model_id": "8555370149cf4055b0732df8cee715f8",
       "version_major": 2,
       "version_minor": 0
      },
      "text/plain": [
       "Map(center=[-3.538806962642807, -79.84343566192852], controls=(ZoomControl(options=['position', 'zoom_in_text'…"
      ]
     },
     "metadata": {},
     "output_type": "display_data"
    }
   ],
   "source": [
    "file_name_mapping = {\n",
    "    'mean_organic_carbon_density_0_5': 'Mean Organic Carbon Density (0-5cm, g/dm³)',\n",
    "    'mean_soil_organic_carbon_0_5': 'Mean Soil Organic Carbon (0-5cm, dg/kg)',\n",
    "    'mean_silt_0_5': 'Mean Silt (0-5cm, g/kg)',\n",
    "    'mean_clay_content_0_5': 'Mean Clay Content (0-5cm, g/kg)',\n",
    "    'mean_nitrogen_0_5': 'Mean Nitrogen (0-5cm, cg/kg)',\n",
    "    'mean_course_fragments_0_5': 'Mean Course Fragments (0-5cm, cm³/dm³)',\n",
    "    'mean_cation_exchange_capacity_0_5': 'Mean Cation Exchange Capacity (0-5cm, mmol(c)/kg)',\n",
    "    'mean_sand_0_5': 'Mean Sand (0-5cm, g/kg)',\n",
    "    'mean_bulk_density_0_5': 'Mean Bulk Density (0-5cm, cg/cm³)',\n",
    "    'mean_organic_carbon_stock_0_30': 'Mean Organic Carbon Stock (0-30cm, tonnes/ha)',\n",
    "    'world_reference_soil_groups': 'World Reference Soil Groups',\n",
    "    'mean_ph_water_0_5': 'Mean pH Water (0-5cm, pH * 10)'\n",
    "}\n",
    "\n",
    "for file in glob.glob(\"Soil Grids/*.tif\"):\n",
    "    file_p = Path(file)\n",
    "    # production in 1000T\n",
    "    client = TileClient(file)\n",
    "    # Create ipyleaflet tile layer from that server\n",
    "    cmap = \"coolwarm\"\n",
    "    if file_p.stem == \"world_reference_soil_groups\":\n",
    "        cmap = \"tab20\"\n",
    "        legend = LegendControl({\n",
    "            \"Cambisols\": \"Green\",\n",
    "            \"Ferralsols\": \"#d62728\",\n",
    "            \"Andosols\": \"Orange\",\n",
    "            \"Fluvisols\": \"rgb(231,150,142)\",\n",
    "            \"Gleysols\": \"rgb(118, 96, 146)\",\n",
    "        }, name=\"Legend\", position=\"topright\")\n",
    "\n",
    "        # Add the legend to the map\n",
    "        \n",
    "\n",
    "    t = get_leaflet_tile_layer(client, #vmin=0, vmax=50, \n",
    "                               cmap=cmap, \n",
    "                               opacity=0.75, max_zoom=max_zoom,\n",
    "        max_native_zoom=max_zoom)\n",
    "    \n",
    "    m = Map(center=(lat, long), zoom=10, layout=Layout(height='800px'), basemap=basemaps.Esri.WorldImagery)\n",
    "    addElOro(m, \"ecu_admbnda_adm2_inec_20190724\")\n",
    "    \n",
    "    # Create a marker at the given latitude and longitude\n",
    "    pix_value = getCoordinatePixel(\n",
    "        file,\n",
    "        long,\n",
    "        lat,\n",
    "    )\n",
    "    marker = Marker(location=(lat, long), title=f\"Value: {pix_value}\")\n",
    "    if file_p.stem == \"world_reference_soil_groups\":\n",
    "        m.add_control(legend)\n",
    "    # Add the marker to the map\n",
    "    m.add_layer(marker)\n",
    "    m.add_layer(t)\n",
    "    \n",
    "    display(Markdown(f\"## {file_name_mapping[file_p.stem]}\"))\n",
    "    display(m)"
   ]
  },
  {
   "cell_type": "code",
   "execution_count": 49,
   "id": "93babca8-b8db-4652-aa8f-32befb069eb2",
   "metadata": {
    "tags": []
   },
   "outputs": [
    {
     "data": {
      "text/markdown": [
       "## Potential Crop Yield RCP2.6 vs RCP8.5"
      ],
      "text/plain": [
       "<IPython.core.display.Markdown object>"
      ]
     },
     "metadata": {},
     "output_type": "display_data"
    },
    {
     "data": {
      "application/vnd.jupyter.widget-view+json": {
       "model_id": "f88d4e17c6e348748a917e1f348b2172",
       "version_major": 2,
       "version_minor": 0
      },
      "text/plain": [
       "HBox(children=(Dropdown(description='Select Year:', options=('2011-2040 (2020)', '2041-2070 (2050)', '2071-210…"
      ]
     },
     "metadata": {},
     "output_type": "display_data"
    },
    {
     "data": {
      "application/vnd.jupyter.widget-view+json": {
       "model_id": "a7989c677c8041f5be15e6f2dd80d46c",
       "version_major": 2,
       "version_minor": 0
      },
      "text/plain": [
       "Map(center=[-3.538806962642807, -79.84343566192852], controls=(ZoomControl(options=['position', 'zoom_in_text'…"
      ]
     },
     "metadata": {},
     "output_type": "display_data"
    }
   ],
   "source": [
    "# Create a list of years\n",
    "years = [\"2011-2040 (2020)\", \"2041-2070 (2050)\", \"2071-2100 (2080)\"]\n",
    "year_mapping = {\n",
    "    \"2071-2100 (2080)\": \"2080\",\n",
    "    \"2011-2040 (2020)\": \"2020\",\n",
    "    \"2041-2070 (2050)\": \"2050\",\n",
    "}\n",
    "# Create a list of crops\n",
    "# crops = [\"Banana\", \"Rice\", \"Wheat\", \"Soybean\", \"Sugarcane]\n",
    "crop_map = {\"Banana\": \"bana\", \"Rice\": \"ricw\", \"Wheat\": \"whea\", \"Soybean\": \"soyb\", \"Sugarcane\": \"sugc\"}\n",
    "# Create the widgets\n",
    "year_widget = widgets.Dropdown(options=years, description=\"Select Year:\")\n",
    "crop_widget = widgets.Dropdown(options=crop_map.keys(), description=\"Select Crop:\")\n",
    "\n",
    "potential_yield_checkbox = widgets.Checkbox(\n",
    "    value=False,\n",
    "    description='Smoothed',\n",
    "    disabled=False,\n",
    ")\n",
    "production_value = widgets.Label()\n",
    "# Display the widgets\n",
    "potential_yield_hbox = widgets.HBox([year_widget, crop_widget, potential_yield_checkbox, production_value])\n",
    "\n",
    "potential_yield_map = Map(\n",
    "    center=(lat, long),\n",
    "    zoom=8,\n",
    "    dragging=False,\n",
    "    basemap=basemaps.Esri.WorldImagery,\n",
    ")\n",
    "zoom_slider = IntSlider(description=\"Zoom level:\", min=0, max=15, value=9)\n",
    "jslink((zoom_slider, \"value\"), (potential_yield_map, \"zoom\"))\n",
    "potential_yield_widgetControl = WidgetControl(widget=zoom_slider, position=\"topright\")\n",
    "\n",
    "\n",
    "# Shared display parameters\n",
    "potential_yield_display_dict = dict(\n",
    "    # vmin=0, vmax=9100,\n",
    "    cmap=\"coolwarm\",\n",
    "    opacity=0.75,\n",
    "    max_zoom=max_zoom,\n",
    "    max_native_zoom=max_zoom,\n",
    ")\n",
    "\n",
    "# Create 2 tile layers from different raster\n",
    "potential_yield_l_client = TileClient(\n",
    "    \"Potential Yield/potential_yield_gfdlesm2m_rcp2p6_2020_bana200a_yld.tif\"\n",
    ")\n",
    "potential_yield_r_client = TileClient(\n",
    "    \"Potential Yield/potential_yield_gfdlesm2m_rcp8p5_2020_bana200a_yld.tif\"\n",
    ")\n",
    "left_layer_new = get_leaflet_tile_layer(potential_yield_l_client, **potential_yield_display_dict)\n",
    "right_layer_new = get_leaflet_tile_layer(potential_yield_r_client, **potential_yield_display_dict)\n",
    "potential_yield_control = SplitMapControl(left_layer=left_layer_new, right_layer=right_layer_new)\n",
    "\n",
    "potential_yield_marker = Marker(location=(lat, long))\n",
    "potential_yield_map.add_layer(potential_yield_marker)\n",
    "# Function to update map\n",
    "def potential_yield_value_change(change):\n",
    "    potential_yield_update_map(left_layer_new, right_layer_new, potential_yield_control, change)\n",
    "\n",
    "\n",
    "def potential_yield_update_map(left_layer_new, right_layer_new, control, change):\n",
    "    year = year_mapping[year_widget.value]\n",
    "    crop = crop_map[crop_widget.value]\n",
    "    smoothed = potential_yield_checkbox.value\n",
    "    # TODO: Implement your map update logic here\n",
    "    # m.remove_control(control)\n",
    "    for control in potential_yield_map.controls:\n",
    "        if isinstance(control, SplitMapControl):\n",
    "            potential_yield_map.remove_control(control)\n",
    "    # m.remove_layer(left_layer_new)\n",
    "    # m.remove_layer(right_layer_new)\n",
    "    # print(\"removed control\")\n",
    "    l_name = f\"Potential Yield/potential_yield_gfdlesm2m_rcp2p6_{year}_{crop}200a_yld.tif\"\n",
    "    r_name = f\"Potential Yield/potential_yield_gfdlesm2m_rcp8p5_{year}_{crop}200a_yld.tif\"\n",
    "    if smoothed:\n",
    "        l_name = smooth(l_name)\n",
    "        r_name = smooth(r_name)\n",
    "    l_client = TileClient(\n",
    "        l_name\n",
    "    )\n",
    "    r_client = TileClient(\n",
    "        r_name\n",
    "    )\n",
    "    # Create new layers\n",
    "    left_layer_new = get_leaflet_tile_layer(l_client, **potential_yield_display_dict)\n",
    "    right_layer_new = get_leaflet_tile_layer(r_client, **potential_yield_display_dict)\n",
    "\n",
    "    # Add a new SplitMapControl with the new layers\n",
    "    control = SplitMapControl(left_layer=left_layer_new, right_layer=right_layer_new)\n",
    "    # Add the marker to the map\n",
    "    potential_yield_map.add_control(control)\n",
    "    potential_yield_marker_move(change, potential_yield_marker.location)\n",
    "\n",
    "def potential_yield_marker_move(event, location):\n",
    "    year = year_mapping[year_widget.value]\n",
    "    crop = crop_map[crop_widget.value]\n",
    "    new_lat, new_long = location\n",
    "    l_pix = getCoordinatePixel(\n",
    "        f\"Potential Yield/potential_yield_gfdlesm2m_rcp2p6_{year}_{crop}200a_yld.tif\",\n",
    "        new_long,\n",
    "        new_lat,\n",
    "    )\n",
    "    r_pix = getCoordinatePixel(\n",
    "        f\"Potential Yield/potential_yield_gfdlesm2m_rcp8p5_{year}_{crop}200a_yld.tif\",\n",
    "        new_long,\n",
    "        new_lat,\n",
    "    )\n",
    "    production_value.value = f\"Yield: {l_pix*1000:,.0f} vs {r_pix*1000:,.0f} tons/ha at {location[0]:.2f}, {location[1]:.2f}\"\n",
    "    # Popup with a given location on the map:\n",
    "\n",
    "potential_yield_marker.on_move(potential_yield_marker_move)\n",
    "# Set the function to be called on value change\n",
    "year_widget.observe(potential_yield_value_change, names=\"value\")\n",
    "crop_widget.observe(potential_yield_value_change, names=\"value\")\n",
    "potential_yield_checkbox.observe(potential_yield_value_change, names=\"value\")\n",
    "\n",
    "addElOro(potential_yield_map, \"ecu_admbnda_adm2_inec_20190724\")\n",
    "potential_yield_map.add_control(potential_yield_widgetControl)\n",
    "\n",
    "\n",
    "# Create a marker at the given latitude and longitude\n",
    "\n",
    "# m.add_layer(basemaps.OpenStreetMap.Mapnik)\n",
    "potential_yield_map.add_control(ScaleControl(position=\"bottomleft\"))\n",
    "# m.add_control(FullScreenControl(position='topright'))\n",
    "potential_yield_map.add_control(LayersControl())\n",
    "potential_yield_map.add_control(FullScreenControl())\n",
    "\n",
    "# m.add_control(control)\n",
    "display(Markdown(\"## Potential Crop Yield RCP2.6 vs RCP8.5\"))\n",
    "display(potential_yield_hbox)\n",
    "display(potential_yield_map)\n",
    "potential_yield_value_change({\"new\": 0})"
   ]
  },
  {
   "cell_type": "code",
   "execution_count": 110,
   "id": "c8985140-8015-4345-a5aa-eee7481a5aca",
   "metadata": {
    "tags": []
   },
   "outputs": [
    {
     "data": {
      "text/plain": [
       "numpy.ndarray"
      ]
     },
     "execution_count": 110,
     "metadata": {},
     "output_type": "execute_result"
    }
   ],
   "source": [
    "year=2020\n",
    "crop=\"bana\"\n",
    "l_name = f\"Potential Yield/potential_yield_gfdlesm2m_rcp2p6_{year}_{crop}200a_yld.tif\"\n",
    "r_name = f\"Potential Yield/potential_yield_gfdlesm2m_rcp8p5_{year}_{crop}200a_yld.tif\"\n",
    "# if smoothed:\n",
    "#     l_name = smooth_dataset(l_name, 1)\n",
    "#     r_name = smooth_dataset(r_name, 1)\n",
    "\n",
    "with rasterio.open(l_name) as src1:\n",
    "    band1 = src1.read(1)#, window=window)\n",
    "\n",
    "with rasterio.open(r_name) as src2:\n",
    "    band2 = src2.read(1)#, window=window)\n",
    "\n",
    "# Compute the delta\n",
    "delta = band1 - band2\n",
    "type(delta)"
   ]
  },
  {
   "cell_type": "code",
   "execution_count": 113,
   "id": "8fcb6a59-2182-4e1b-9bfd-404d04507ebe",
   "metadata": {
    "tags": []
   },
   "outputs": [
    {
     "data": {
      "text/markdown": [
       "## Potential Crop Yield Delta RCP2.6 vs RCP8.5"
      ],
      "text/plain": [
       "<IPython.core.display.Markdown object>"
      ]
     },
     "metadata": {},
     "output_type": "display_data"
    },
    {
     "data": {
      "application/vnd.jupyter.widget-view+json": {
       "model_id": "d516c7ca982e428d9c51acafd439d9b8",
       "version_major": 2,
       "version_minor": 0
      },
      "text/plain": [
       "HBox(children=(Dropdown(description='Select Year:', options=('2011-2040 (2020)', '2041-2070 (2050)', '2071-210…"
      ]
     },
     "metadata": {},
     "output_type": "display_data"
    },
    {
     "data": {
      "application/vnd.jupyter.widget-view+json": {
       "model_id": "4d6c6dea241548acb59fb69f53525e79",
       "version_major": 2,
       "version_minor": 0
      },
      "text/plain": [
       "Map(center=[-3.538806962642807, -79.84343566192852], controls=(ZoomControl(options=['position', 'zoom_in_text'…"
      ]
     },
     "metadata": {},
     "output_type": "display_data"
    }
   ],
   "source": [
    "# Create a list of years\n",
    "years = [\"2011-2040 (2020)\", \"2041-2070 (2050)\", \"2071-2100 (2080)\"]\n",
    "year_mapping = {\n",
    "    \"2071-2100 (2080)\": \"2080\",\n",
    "    \"2011-2040 (2020)\": \"2020\",\n",
    "    \"2041-2070 (2050)\": \"2050\",\n",
    "}\n",
    "year_vmap = {\n",
    "    \"2080\": (2,3500),\n",
    "    \"2050\": (2,400),\n",
    "    \"2020\": (2,70)\n",
    "}\n",
    "# Create a list of crops\n",
    "# crops = [\"Banana\", \"Rice\", \"Wheat\", \"Soybean\", \"Sugarcane]\n",
    "crop_map = {\"Banana\": \"bana\", \"Rice\": \"ricw\", \"Wheat\": \"whea\", \"Soybean\": \"soyb\", \"Sugarcane\": \"sugc\"}\n",
    "# Create the widgets\n",
    "year_widget = widgets.Dropdown(options=years, description=\"Select Year:\")\n",
    "crop_widget = widgets.Dropdown(options=crop_map.keys(), description=\"Select Crop:\")\n",
    "\n",
    "yield_delta_checkbox = widgets.Checkbox(\n",
    "    value=False,\n",
    "    description='Smoothed',\n",
    "    disabled=False,\n",
    ")\n",
    "yield_delta_value = widgets.Label()\n",
    "# Display the widgets\n",
    "yield_delta_hbox = widgets.HBox([year_widget, crop_widget, yield_delta_checkbox, yield_delta_value])\n",
    "\n",
    "yield_delta_map = Map(\n",
    "    center=(lat, long),\n",
    "    zoom=8,\n",
    "    dragging=True,\n",
    "    basemap=basemaps.Esri.WorldImagery,\n",
    ")\n",
    "zoom_slider = IntSlider(description=\"Zoom level:\", min=0, max=15, value=9)\n",
    "jslink((zoom_slider, \"value\"), (yield_delta_map, \"zoom\"))\n",
    "yield_delta_widgetControl = WidgetControl(widget=zoom_slider, position=\"topright\")\n",
    "\n",
    "\n",
    "# Shared display parameters\n",
    "yield_delta_display_dict = dict(\n",
    "    vmin=0, vmax=3000,\n",
    "    cmap=\"coolwarm\",\n",
    "    opacity=0.75,\n",
    "    max_zoom=max_zoom,\n",
    "    max_native_zoom=max_zoom,\n",
    ")\n",
    "\n",
    "# Create 2 tile layers from different raster\n",
    "# yield_delta_client = TileClient(\n",
    "#     \"Potential Yield/yield_delta_gfdlesm2m_rcp2p6_2020_bana200a_yld.tif\"\n",
    "# )\n",
    "# layer_new = get_leaflet_tile_layer(yield_delta_client, **yield_delta_display_dict)\n",
    "\n",
    "yield_delta_marker = Marker(location=(lat, long))\n",
    "yield_delta_map.add_layer(yield_delta_marker)\n",
    "# yield_delta_map.add_layer(Marker(icon=Icon(icon_url='https://img.uxwing.com/wp-content/themes/uxwing/download/fruits-vegetables/banana-icon.svg', marker_color='red'), location=(lat, long)))\n",
    "# yield_delta_map.add_layer(Marker(icon=AwesomeIcon(name='banana', marker_color='green'), location=(lat, long)))\n",
    "\n",
    "# Function to update map\n",
    "def yield_delta_value_change(change):\n",
    "    yield_delta_update_map(change)\n",
    "\n",
    "\n",
    "def yield_delta_update_map(change):\n",
    "    year = year_mapping[year_widget.value]\n",
    "    crop = crop_map[crop_widget.value]\n",
    "    smoothed = yield_delta_checkbox.value\n",
    "    yield_delta_display_dict['vmin'] = year_vmap[year][0]\n",
    "    yield_delta_display_dict['vmax'] = year_vmap[year][1]\n",
    "    # TODO: Implement your map update logic here\n",
    "    # m.remove_control(control)\n",
    "    # yield_delta_map.remove_layer(yield_delta_map.layers[-1])\n",
    "    for layer in yield_delta_map.layers:\n",
    "        # print(str(type(layer)))\n",
    "        if \"BoundTileLayer\" in str(type(layer)):\n",
    "            yield_delta_map.remove_control(layer)\n",
    "    # for layer in yield_delta_map.layers:\n",
    "        # print(layer)\n",
    "        # if isinstance(layer, TileLayer):\n",
    "        #     yield_delta_map.remove_layer(layer)\n",
    "    # m.remove_layer(left_layer_new)\n",
    "    # m.remove_layer(right_layer_new)\n",
    "    # print(\"removed control\")\n",
    "    l_name = f\"Potential Yield/potential_yield_gfdlesm2m_rcp2p6_{year}_{crop}200a_yld.tif\"\n",
    "    r_name = f\"Potential Yield/potential_yield_gfdlesm2m_rcp8p5_{year}_{crop}200a_yld.tif\"\n",
    "    # if smoothed:\n",
    "    #     l_name = smooth_dataset(l_name, 1)\n",
    "    #     r_name = smooth_dataset(r_name, 1)\n",
    "\n",
    "    with rasterio.open(l_name) as src1:\n",
    "        band1 = src1.read(1)#, window=window)\n",
    "\n",
    "    with rasterio.open(r_name) as src2:\n",
    "        band2 = src2.read(1)#, window=window)\n",
    "\n",
    "    # Compute the delta\n",
    "    delta = np.abs(band1 - band2)\n",
    "    new_file = f\"potential_yield_gfdlesm2m_DELTA_{year}_{crop}200a_yld.tif\"\n",
    "    with rasterio.open(new_file, 'w', driver='GTiff', height=delta.shape[0],\n",
    "                   width=delta.shape[1], count=1, dtype=delta.dtype,\n",
    "                   crs=src1.crs, transform=src1.transform) as dst:\n",
    "        dst.write(delta, 1)\n",
    "\n",
    "    # Return a new DatasetReader for the new file\n",
    "    if smoothed:\n",
    "        delta_fs = smooth(new_file)\n",
    "    else:\n",
    "        delta_fs = rasterio.open(new_file)\n",
    "    new_client = TileClient(\n",
    "        delta_fs\n",
    "    )\n",
    "    # Create new layers\n",
    "    layer_new = get_leaflet_tile_layer(new_client, **yield_delta_display_dict)\n",
    "\n",
    "    # Add a new SplitMapControl with the new layers\n",
    "    # Add the marker to the map\n",
    "    yield_delta_map.add_layer(layer_new)\n",
    "    yield_delta_marker_move(change, marker.location)\n",
    "\n",
    "def yield_delta_marker_move(event, location):\n",
    "    year = year_mapping[year_widget.value]\n",
    "    crop = crop_map[crop_widget.value]\n",
    "    new_lat, new_long = location\n",
    "    l_pix = getCoordinatePixel(\n",
    "        f\"Potential Yield/potential_yield_gfdlesm2m_rcp2p6_{year}_{crop}200a_yld.tif\",\n",
    "        new_long,\n",
    "        new_lat,\n",
    "    )\n",
    "    r_pix = getCoordinatePixel(\n",
    "        f\"Potential Yield/potential_yield_gfdlesm2m_rcp8p5_{year}_{crop}200a_yld.tif\",\n",
    "        new_long,\n",
    "        new_lat,\n",
    "    )\n",
    "    yield_delta_value.value = f\"Yield: {l_pix*1000:,.0f} vs {r_pix*1000:,.0f} (delta {l_pix-r_pix}) tons/ha at {location[0]:.2f}, {location[1]:.2f}\"\n",
    "    # Popup with a given location on the map:\n",
    "\n",
    "yield_delta_marker.on_move(yield_delta_marker_move)\n",
    "# Set the function to be called on value change\n",
    "year_widget.observe(yield_delta_value_change, names=\"value\")\n",
    "crop_widget.observe(yield_delta_value_change, names=\"value\")\n",
    "yield_delta_checkbox.observe(yield_delta_value_change, names=\"value\")\n",
    "\n",
    "\n",
    "yield_delta_map.add_control(yield_delta_widgetControl)\n",
    "\n",
    "\n",
    "# Create a marker at the given latitude and longitude\n",
    "\n",
    "# m.add_layer(basemaps.OpenStreetMap.Mapnik)\n",
    "yield_delta_map.add_control(ScaleControl(position=\"bottomleft\"))\n",
    "# m.add_control(FullScreenControl(position='topright'))\n",
    "yield_delta_map.add_control(LayersControl())\n",
    "yield_delta_map.add_control(FullScreenControl())\n",
    "addElOro(yield_delta_map, \"ecu_admbnda_adm2_inec_20190724\")\n",
    "# m.add_control(control)\n",
    "display(Markdown(\"## Potential Crop Yield Delta RCP2.6 vs RCP8.5\"))\n",
    "display(yield_delta_hbox)\n",
    "display(yield_delta_map)\n",
    "yield_delta_value_change({\"new\": 0})\n",
    "\n"
   ]
  },
  {
   "cell_type": "markdown",
   "id": "3c07b24d-0e30-463a-a625-722d46ed4212",
   "metadata": {},
   "source": [
    "# Mean temperature animation"
   ]
  },
  {
   "cell_type": "code",
   "execution_count": 37,
   "id": "2c0ddc41-f0d0-4e59-a8bb-a8f91b620030",
   "metadata": {
    "tags": []
   },
   "outputs": [
    {
     "data": {
      "application/vnd.jupyter.widget-view+json": {
       "model_id": "3ad712bd7cd7446cad6ca53815043318",
       "version_major": 2,
       "version_minor": 0
      },
      "text/plain": [
       "HBox(children=(Play(value=0, description='Press play', interval=500, max=88), Button(icon='minus', layout=Layo…"
      ]
     },
     "metadata": {},
     "output_type": "display_data"
    },
    {
     "data": {
      "application/vnd.jupyter.widget-view+json": {
       "model_id": "8d762e452b04403e8c7f98db0ff48a61",
       "version_major": 2,
       "version_minor": 0
      },
      "text/plain": [
       "Map(center=[-3.371274, -79.610968], controls=(ZoomControl(options=['position', 'zoom_in_text', 'zoom_in_title'…"
      ]
     },
     "metadata": {},
     "output_type": "display_data"
    }
   ],
   "source": [
    "display_dict = dict(\n",
    "    vmin=6, vmax=30,\n",
    "    cmap=\"coolwarm\",\n",
    "    opacity=0.75,\n",
    "    max_zoom=max_zoom,\n",
    "    max_native_zoom=max_zoom,\n",
    ")\n",
    "year_map = Map(center=(lat, long), zoom=9, basemap=basemaps.OpenStreetMap.Mapnik, dragging=False)\n",
    "\n",
    "def get_split_control(year):\n",
    "    l_name = f\"Agroclimatic/Thermal regime/Mean annual temp/ts_tmp_GFDL-ESM2M_rcp2p6_{year}.tif\"\n",
    "    r_name = f\"Agroclimatic/Thermal regime/Mean annual temp/ts_tmp_GFDL-ESM2M_rcp8p5_{year}.tif\"\n",
    "    l_client = TileClient(\n",
    "        l_name\n",
    "    )\n",
    "    r_client = TileClient(\n",
    "        r_name\n",
    "    )\n",
    "    # Create new layers\n",
    "    left_layer_new = get_leaflet_tile_layer(l_client, **display_dict)\n",
    "    right_layer_new = get_leaflet_tile_layer(r_client, **display_dict)\n",
    "\n",
    "    # Add a new SplitMapControl with the new layers\n",
    "    control = SplitMapControl(left_layer=left_layer_new, right_layer=right_layer_new)\n",
    "    return control\n",
    "# Create a dictionary of GeoJSON layers, one for each unique timestamp\n",
    "layers = {year: get_split_control(year)\n",
    "          for year in range(2011, 2100)}\n",
    "\n",
    "# Create a time slider\n",
    "time_slider = widgets.SelectionSlider(\n",
    "    options=list(layers.keys()),\n",
    "    description='Year',\n",
    "    continuous_update=False\n",
    ")\n",
    "\n",
    "# Create a Play widget\n",
    "play = widgets.Play(\n",
    "    interval=500, #ms\n",
    "    value=0,\n",
    "    min=0,\n",
    "    max=len(time_slider.options)-1,\n",
    "    step=1,\n",
    "    description=\"Press play\",\n",
    "    disabled=False\n",
    ")\n",
    "\n",
    "# Create an IntSlider that will be linked to the Play widget and the SelectionSlider\n",
    "int_slider = widgets.IntSlider(min=0, max=len(time_slider.options)-1)\n",
    "\n",
    "def update_temp_label(event, location):\n",
    "    year = time_slider.value\n",
    "    m_lat, m_long = location\n",
    "    l_name = f\"Agroclimatic/Thermal regime/Mean annual temp/ts_tmp_GFDL-ESM2M_rcp2p6_{year}.tif\"\n",
    "    r_name = f\"Agroclimatic/Thermal regime/Mean annual temp/ts_tmp_GFDL-ESM2M_rcp8p5_{year}.tif\"\n",
    "    l_value = getCoordinatePixel(l_name, m_long, m_lat)\n",
    "    r_value = getCoordinatePixel(r_name, m_long, m_lat)\n",
    "    rcps_value.value = f\"Mean annual temperature RCP2.6 vs RCP8.5 at marker: {l_value:.0f} vs {r_value:.0f} °C\"\n",
    "# Function to update the map based on the time slider\n",
    "def update_temp_map(change):\n",
    "    # Remove all current layers\n",
    "    for control in year_map.controls:\n",
    "        if isinstance(control, SplitMapControl):\n",
    "            year_map.remove_control(control)\n",
    "        if isinstance(control, Popup):\n",
    "            control.close_popup()\n",
    "            year_map.remove_control(control)\n",
    "\n",
    "    # Add the layer for the selected time\n",
    "    year = time_slider.options[change['new']]\n",
    "    year_map.add_control(layers[year])\n",
    "    # message1 = HTML()\n",
    "    update_temp_label(change, marker.location)\n",
    "    # location = (lat, long)\n",
    "    # # Popup with a given location on the map:\n",
    "    # popup = Popup(\n",
    "    #     location=location,\n",
    "    #     child=message1,\n",
    "    #     close_button=False,\n",
    "    #     auto_close=False,\n",
    "    #     close_on_escape_key=False\n",
    "    # )\n",
    "    # year_map.add_layer(popup)\n",
    "    # popup.open_popup(location)\n",
    "\n",
    "# Call update_map when the int_slider changes\n",
    "int_slider.observe(update_temp_map, names='value')\n",
    "temp_marker = Marker(location=(lat, long))\n",
    "temp_marker.on_move(update_temp_label)\n",
    "\n",
    "# Add the marker to the map\n",
    "year_map.add_layer(temp_marker)\n",
    "\n",
    "\n",
    "# Link the Play widget and the SelectionSlider to the IntSlider\n",
    "widgets.jslink((play, 'value'), (int_slider, 'value'))\n",
    "widgets.jslink((int_slider, 'value'), (time_slider, 'index'))\n",
    "# Define a layout for the buttons\n",
    "button_layout = Layout(width='50px')  # Or use percentage: '10%'\n",
    "\n",
    "# Create the decrement button with a 'minus' icon and custom layout\n",
    "dec_button = widgets.Button(\n",
    "    icon='minus',  # 'minus' is the Font Awesome name for the minus icon\n",
    "    button_style='',  # '' means default\n",
    "    layout=button_layout  # Use the custom layout\n",
    ")\n",
    "\n",
    "# Create the increment button with a 'plus' icon and custom layout\n",
    "inc_button = widgets.Button(\n",
    "    icon='plus',  # 'plus' is the Font Awesome name for the plus icon\n",
    "    button_style='',  # '' means default\n",
    "    layout=button_layout  # Use the custom layout\n",
    ")\n",
    "\n",
    "# Define function for decrement button\n",
    "def dec_value(b):\n",
    "    if int_slider.value > int_slider.min:\n",
    "        int_slider.value -= 1\n",
    "\n",
    "# Define function for increment button\n",
    "def inc_value(b):\n",
    "    if int_slider.value < int_slider.max:\n",
    "        int_slider.value += 1\n",
    "\n",
    "# Link button click events to their respective functions\n",
    "dec_button.on_click(dec_value)\n",
    "inc_button.on_click(inc_value)\n",
    "rcps_value = widgets.Label()\n",
    "value = 6\n",
    "cmap = plt.get_cmap('coolwarm')\n",
    "norm = plt.Normalize(vmin=6, vmax=30)  # Adjust the vmin and vmax values based on your data range\n",
    "\n",
    "hex_color1 = '#%02x%02x%02x' % tuple(int(255 * c) for c in cmap(norm(6))[:3])\n",
    "hex_color2 = '#%02x%02x%02x' % tuple(int(255 * c) for c in cmap(norm(30))[:3])\n",
    "# hex_color3 = \n",
    "def color(value):\n",
    "    return '#%02x%02x%02x' % tuple(int(255 * c) for c in cmap(norm(value))[:3])\n",
    "# {\"Low (6°C)\":hex_color1, \"Medium (15°C)\":hex_color3, \"High (30°C)\":hex_color2}\n",
    "legend_map = {f\"{i}°C\":color(i) for i in range(6, 31, 3) }\n",
    "legend = LegendControl(legend_map, name=\"Legend\", position=\"topright\")\n",
    "year_map.add_control(legend)\n",
    "# Display the widgets\n",
    "# widgets.HBox([, int_slider, inc_button])\n",
    "# Display the map and the widgets\n",
    "year_map.add_control(ScaleControl(position='bottomleft'))\n",
    "display(widgets.HBox([play, dec_button, time_slider, inc_button, rcps_value]))\n",
    "display(year_map)\n",
    "update_temp_map({\"new\": 0})"
   ]
  },
  {
   "cell_type": "code",
   "execution_count": null,
   "id": "7d9a7c98-5e25-4144-a178-ab0824e3166f",
   "metadata": {},
   "outputs": [],
   "source": []
  }
 ],
 "metadata": {
  "celltoolbar": "Slideshow",
  "hide_input": false,
  "kernelspec": {
   "display_name": "Python 3 (ipykernel)",
   "language": "python",
   "name": "python3"
  },
  "language_info": {
   "codemirror_mode": {
    "name": "ipython",
    "version": 3
   },
   "file_extension": ".py",
   "mimetype": "text/x-python",
   "name": "python",
   "nbconvert_exporter": "python",
   "pygments_lexer": "ipython3",
   "version": "3.11.3"
  }
 },
 "nbformat": 4,
 "nbformat_minor": 5
}
